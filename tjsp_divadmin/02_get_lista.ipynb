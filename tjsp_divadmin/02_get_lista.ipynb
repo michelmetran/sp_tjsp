{
 "cells": [
  {
   "attachments": {},
   "cell_type": "markdown",
   "metadata": {},
   "source": [
    "<br>\n",
    "\n",
    "# Introdução\n",
    "\n",
    "- https://www.tjsp.jus.br/ListaTelefonica\n"
   ]
  },
  {
   "cell_type": "code",
   "execution_count": null,
   "metadata": {},
   "outputs": [],
   "source": [
    "import html\n",
    "import time\n",
    "\n",
    "import pandas as pd\n",
    "import requests\n",
    "from bs4 import BeautifulSoup\n",
    "from more_itertools import one\n",
    "from my_driver import Driver\n",
    "from my_functions import find_text_between_parenthesis, keep_numbers\n",
    "from open_geodata import geo\n",
    "from paths import adds_path, driver_path, input_path, logs_path\n",
    "from selenium import webdriver\n",
    "from selenium.webdriver.common.action_chains import ActionChains\n",
    "from selenium.webdriver.common.by import By\n",
    "from selenium.webdriver.common.keys import Keys\n",
    "from selenium.webdriver.firefox.options import Options as FirefoxOptions\n",
    "from selenium.webdriver.firefox.service import Service as FirefoxService\n",
    "from selenium.webdriver.support import expected_conditions as EC\n",
    "from selenium.webdriver.support.ui import Select\n",
    "from selenium.webdriver.support.wait import WebDriverWait\n",
    "from traquitanas.scrapping import adds, gecko"
   ]
  },
  {
   "attachments": {},
   "cell_type": "markdown",
   "metadata": {},
   "source": [
    "<br>\n",
    "\n",
    "## Driver\n",
    "\n",
    "Inicialmente, na primeira abordagem, tentei acessar o site da Lista Telefônica para obter os dados do TJSP.\n"
   ]
  },
  {
   "cell_type": "code",
   "execution_count": null,
   "metadata": {},
   "outputs": [],
   "source": [
    "driver = Driver(\n",
    "    my_driver_path=driver_path,\n",
    "    my_logs_path=logs_path,\n",
    "    verify_ssl=False,\n",
    ")\n",
    "driver.add_extension_xpath(my_adds_path=adds_path)\n"
   ]
  },
  {
   "cell_type": "code",
   "execution_count": null,
   "metadata": {},
   "outputs": [],
   "source": [
    "# Go TJSP\n",
    "URL = 'https://www.tjsp.jus.br/ListaTelefonica'\n",
    "driver.get(URL)\n"
   ]
  },
  {
   "cell_type": "code",
   "execution_count": null,
   "metadata": {},
   "outputs": [],
   "source": [
    "# Parâmetros\n",
    "procurar_por = 'Município'\n",
    "text_procurar = 'Santos'\n"
   ]
  },
  {
   "cell_type": "code",
   "execution_count": null,
   "metadata": {},
   "outputs": [],
   "source": [
    "# Tipo de Busca\n",
    "select = Select(driver.find_element(By.XPATH, '//*[@id=\"btnTipoBusca\"]'))\n",
    "\n",
    "# Opções para Procura\n",
    "option_list = select.options\n",
    "option_list = [x.text for x in option_list]\n",
    "\n",
    "# sss\n",
    "if procurar_por in option_list:\n",
    "    select.select_by_visible_text(procurar_por)\n",
    "else:\n",
    "    raise Exception(f'Valor deve estar entre {option_list}')\n"
   ]
  },
  {
   "attachments": {},
   "cell_type": "markdown",
   "metadata": {},
   "source": [
    "<br>\n",
    "\n",
    "Dai notei que a cada letra digitada, uma lista de municípios apareciam, indicando que algum método POST estava atuando.\n",
    "\n",
    "Optei por ver o método POST e trabalhar com ele, mudando a abordagem!\n"
   ]
  },
  {
   "cell_type": "code",
   "execution_count": null,
   "metadata": {},
   "outputs": [],
   "source": [
    "field_xpath = driver.find_element(By.XPATH, '//*[@id=\"Descricao\"]')\n",
    "field_xpath.clear()\n",
    "field_xpath.send_keys(Keys.BACKSPACE*50)\n",
    "\n",
    "for letra in text_procurar:\n",
    "    print(letra)\n",
    "    time.sleep(1)\n",
    "    field_xpath.send_keys(letra)\n",
    "    "
   ]
  },
  {
   "cell_type": "code",
   "execution_count": null,
   "metadata": {},
   "outputs": [],
   "source": [
    "driver.quit()\n"
   ]
  },
  {
   "attachments": {},
   "cell_type": "markdown",
   "metadata": {},
   "source": [
    "<br>\n",
    "\n",
    "## Lista de Municípios\n"
   ]
  },
  {
   "cell_type": "code",
   "execution_count": null,
   "metadata": {},
   "outputs": [],
   "source": [
    "geo.get_dataset_names()\n",
    "df_geo_mun = geo.load_dataset('tab.sp.tab_municipio_nome')\n",
    "df_geo_mun.head()\n",
    "lista_municipios = df_geo_mun['municipio_nome'].to_list()\n",
    "len(lista_municipios)\n"
   ]
  },
  {
   "cell_type": "code",
   "execution_count": null,
   "metadata": {},
   "outputs": [],
   "source": [
    "def get_lista_municipios_tjsp(municipio):\n",
    "    \"\"\"\n",
    "    Pesquisa de municípios a partir de alguns caracteres.\n",
    "    A função sempre retorna 10 itens.\n",
    "    A cada caractere, o número de registros afunila!\n",
    "\n",
    "    Exemplo de uso:\n",
    "    df = get_lista_municipios_tjsp('Santos')\n",
    "\n",
    "    :param municipio: _description_\n",
    "    :type municipio: _type_\n",
    "    :raises Exception: _description_\n",
    "    \"\"\"\n",
    "    if len(municipio) < 3:\n",
    "        raise Exception('A pesquisa de município deve ter mais de 3 caracteres')\n",
    "\n",
    "    r = requests.post(\n",
    "        'https://www.tjsp.jus.br/AutoComplete/ListarMunicipios',\n",
    "        json={'texto': municipio},\n",
    "    )\n",
    "    if r.json() == 'listaVazia':\n",
    "        pass\n",
    "    else:\n",
    "        return pd.DataFrame(r.json())\n"
   ]
  },
  {
   "cell_type": "code",
   "execution_count": null,
   "metadata": {},
   "outputs": [],
   "source": [
    "# Apenas para Testes\n",
    "get_lista_municipios_tjsp('Santos')\n",
    "#get_lista_municipios_tjsp('Luiz A')\n"
   ]
  },
  {
   "attachments": {},
   "cell_type": "markdown",
   "metadata": {},
   "source": [
    "<br>\n",
    "\n",
    "Obtive o município com maior número de caracteres, visto que a função do método POST sempre lista apenas 10 municípios...\n"
   ]
  },
  {
   "cell_type": "code",
   "execution_count": null,
   "metadata": {},
   "outputs": [],
   "source": [
    "n_caracteres_mun_max = max([len(x) for x in lista_municipios])\n",
    "n_caracteres_mun_max\n"
   ]
  },
  {
   "attachments": {},
   "cell_type": "markdown",
   "metadata": {},
   "source": [
    "<br>\n",
    "\n",
    "Uma vez com a função que retorna os municípios escrita, fiz uma iteração por todos os trechos de nomes de municípios. Para cada municípios foi pesquisado diversas vezes, incrementando o número de caracteres. Por exemplos, o município de Santos foi pesquisado:\n",
    "\n",
    "- San\n",
    "- Sant\n",
    "- Santo\n",
    "- Santos\n",
    "\n",
    "<br>\n",
    "\n",
    "Isso garantiu que todos os municípios foram \"raspados\".\n",
    "\n",
    "A FUNÇÃO LEVA 20 MINUTOS PARA RODAR!\n"
   ]
  },
  {
   "cell_type": "code",
   "execution_count": null,
   "metadata": {},
   "outputs": [],
   "source": [
    "list_dfs = []\n",
    "for i in range(n_caracteres_mun_max)[3:]:\n",
    "    lista_municipios_temp = list(\n",
    "        set([mun[:i] for mun in lista_municipios if len(mun) >= i])\n",
    "    )\n",
    "    for search_text in lista_municipios_temp:\n",
    "        print(search_text)\n",
    "        df_temp = get_lista_municipios_tjsp(search_text)\n",
    "        list_dfs.append(df_temp)\n"
   ]
  },
  {
   "cell_type": "code",
   "execution_count": null,
   "metadata": {},
   "outputs": [],
   "source": [
    "# Concatena todos os Resultados\n",
    "df_tjsp = pd.concat(list_dfs, ignore_index=True)\n",
    "\n",
    "# Ajusta a tabela\n",
    "df_tjsp = df_tjsp.drop_duplicates()\n",
    "df_tjsp = df_tjsp.sort_values(by='Descricao')\n",
    "df_tjsp = df_tjsp.iloc[df_tjsp['Descricao'].str.normalize('NFKD').argsort()]\n",
    "df_tjsp = df_tjsp.reset_index(drop=True)\n",
    "\n",
    "# Resultados\n",
    "df_tjsp.info()\n",
    "df_tjsp.head()\n"
   ]
  },
  {
   "cell_type": "code",
   "execution_count": null,
   "metadata": {},
   "outputs": [],
   "source": [
    "# Salva\n",
    "df_tjsp.to_csv(\n",
    "    input_path / 'Dim_Municipios.csv',\n",
    "    index=False,\n",
    ")\n",
    "df_tjsp.to_excel(\n",
    "    input_path / 'Dim_Municipios.xlsx',\n",
    "    sheet_name='Dim_Municipios',\n",
    "    index=False,\n",
    ")\n",
    "df_tjsp.head()\n"
   ]
  },
  {
   "attachments": {},
   "cell_type": "markdown",
   "metadata": {},
   "source": [
    "<br>\n",
    "\n",
    "## Lista de Foruns\n",
    "\n",
    "Uma vez com a Lista de todos os múnicípios e seus respectivos códigos, foi possível obter as informações dos fóruns por meio de outro método POST.\n"
   ]
  },
  {
   "cell_type": "code",
   "execution_count": null,
   "metadata": {},
   "outputs": [],
   "source": [
    "# Read Data\n",
    "df_tjsp = pd.read_csv(input_path / 'Dim_Municipios.csv')\n",
    "\n",
    "# Results\n",
    "df_tjsp.info()\n",
    "df_tjsp.head()\n"
   ]
  },
  {
   "cell_type": "code",
   "execution_count": null,
   "metadata": {},
   "outputs": [],
   "source": [
    "# Pesquisa pelo Município\n",
    "df_tjsp[df_tjsp['Descricao'].str.startswith('Santos')]\n",
    "df_tjsp[df_tjsp['Descricao'].str.startswith('Pereir')]\n",
    "df_tjsp[df_tjsp['Descricao'].str.startswith('São João do Pau d')]\n",
    "df_tjsp[df_tjsp['Descricao'].str.startswith('São Paulo')]\n",
    "\n",
    "# Pesquisa pelo Código\n",
    "# df_tjsp[df_tjsp['Codigo'] == 7053]\n"
   ]
  },
  {
   "cell_type": "code",
   "execution_count": null,
   "metadata": {},
   "outputs": [],
   "source": [
    "def get_lista_unidades_tjsp(cod_municipio):\n",
    "    \"\"\"\n",
    "    Pega a lista de unidades (Fóruns) de um determinado Município,\n",
    "    a partir do Código do Município do TJSP\n",
    "\n",
    "    :param cod_municipio: _description_\n",
    "    :type cod_municipio: _type_\n",
    "    :return: _description_\n",
    "    :rtype: _type_\n",
    "    \"\"\"\n",
    "    # Requests\n",
    "    r = requests.post(\n",
    "        'https://www.tjsp.jus.br/ListaTelefonica/RetornarResultadoBusca',\n",
    "        json={'parmsEntrada': cod_municipio, 'codigoTipoBusca': 1},\n",
    "    )\n",
    "    # r.headers\n",
    "\n",
    "    # BS4\n",
    "    soup = BeautifulSoup(r.text, 'html.parser')\n",
    "    # print(html.unescape(r.text))\n",
    "    # soup.prettify()\n",
    "    text_comarca = soup.find_all('h4')\n",
    "    if text_comarca == []:\n",
    "        text_comarca = 'É Município-Sede da Comarca'\n",
    "\n",
    "    else:\n",
    "        text_comarca = one(text_comarca)\n",
    "        text_comarca = text_comarca.text\n",
    "        text_comarca = text_comarca.split('jurisdicionado à comarca ')[-1]\n",
    "        # print(text_comarca)\n",
    "        # print(text_comcarca.split('jurisdicionado à comarca '))\n",
    "    lista_unidades = [x.text for x in soup.find_all('span')]\n",
    "    return lista_unidades, text_comarca\n"
   ]
  },
  {
   "cell_type": "code",
   "execution_count": null,
   "metadata": {},
   "outputs": [],
   "source": [
    "# Apenas Exemplo da Função!\n",
    "lista_unidades, comarca = get_lista_unidades_tjsp(7046)\n",
    "lista_unidades, comarca = get_lista_unidades_tjsp(7053)\n",
    "lista_unidades, comarca = get_lista_unidades_tjsp(7055)\n",
    "print(lista_unidades, comarca)\n"
   ]
  },
  {
   "attachments": {},
   "cell_type": "markdown",
   "metadata": {},
   "source": [
    "<br>\n",
    "\n",
    "Uma vez com a função que obter os dados das Unidades e, PRINCIPALMENTE, das comarcas!\n",
    "Foi possível iterar pelos 645 municípios para pegar as informações!\n",
    "\n",
    "> IMPORTANTE: FUNÇÃO LEVA UNS 4 MINUTOS PARA RODAR!\n"
   ]
  },
  {
   "cell_type": "code",
   "execution_count": null,
   "metadata": {},
   "outputs": [],
   "source": [
    "df_tjsp['Comarca'] = None\n",
    "df_tjsp['Unidades'] = None\n",
    "\n",
    "for index, row in df_tjsp.iterrows():\n",
    "    print(row['Descricao'])\n",
    "    lista_unidades, comarca = get_lista_unidades_tjsp(row['Codigo'])\n",
    "    df_tjsp.at[index, 'Comarca'] = comarca\n",
    "    df_tjsp.at[index, 'Unidades'] = lista_unidades\n"
   ]
  },
  {
   "cell_type": "code",
   "execution_count": null,
   "metadata": {},
   "outputs": [],
   "source": [
    "df_tjsp[df_tjsp['Comarca'] == 'É Município-Sede da Comarca']\n",
    "df_tjsp[df_tjsp['Comarca'] != 'É Município-Sede da Comarca']\n"
   ]
  },
  {
   "cell_type": "code",
   "execution_count": null,
   "metadata": {},
   "outputs": [],
   "source": [
    "# Results\n",
    "df_tjsp.info()\n",
    "df_tjsp.head()\n"
   ]
  },
  {
   "cell_type": "code",
   "execution_count": null,
   "metadata": {},
   "outputs": [],
   "source": [
    "# Salva\n",
    "df_tjsp.to_csv(\n",
    "    input_path / 'Dim_Municipios.csv',\n",
    "    index=False,\n",
    ")\n",
    "df_tjsp.to_excel(\n",
    "    input_path / 'Dim_Municipios.xlsx',\n",
    "    sheet_name='Dim_Municipios',\n",
    "    index=False,\n",
    ")\n",
    "df_tjsp.head()\n"
   ]
  },
  {
   "attachments": {},
   "cell_type": "markdown",
   "metadata": {},
   "source": [
    "<br>\n",
    "\n",
    "## Análise dos Nomes dos Municípios\n",
    "\n",
    "A ideia principal é agregar os códigos do IBGE na tabela. Para isso eu fiz um join... vi os erros... e precisarei corrigir!\n"
   ]
  },
  {
   "cell_type": "code",
   "execution_count": null,
   "metadata": {},
   "outputs": [],
   "source": [
    "# Read Data\n",
    "df_tjsp = pd.read_csv(input_path / 'Dim_Municipios.csv')\n",
    "\n",
    "# Results\n",
    "df_tjsp.info()\n",
    "df_tjsp.head()\n"
   ]
  },
  {
   "cell_type": "code",
   "execution_count": null,
   "metadata": {},
   "outputs": [],
   "source": [
    "# TODO: Ajustar!\n",
    "df_mun_tjsp = df_tjsp[['Descricao']]\n",
    "df_mun_tjsp.head()"
   ]
  },
  {
   "attachments": {},
   "cell_type": "markdown",
   "metadata": {},
   "source": [
    "<br>\n",
    "\n",
    "Peguei a tabela padrão, que fiz!, no projeto do OpenGeo!\n"
   ]
  },
  {
   "cell_type": "code",
   "execution_count": null,
   "metadata": {},
   "outputs": [],
   "source": [
    "df_geo_mun.head()\n"
   ]
  },
  {
   "attachments": {},
   "cell_type": "markdown",
   "metadata": {},
   "source": [
    "<br>\n",
    "\n",
    "Juntei "
   ]
  },
  {
   "cell_type": "code",
   "execution_count": null,
   "metadata": {},
   "outputs": [],
   "source": [
    "df_merged = pd.merge(\n",
    "    left=df_geo_mun,\n",
    "    right=df_mun_tjsp,\n",
    "    left_on='municipio_nome',\n",
    "    right_on='Descricao',\n",
    "    how='left',\n",
    ")\n",
    "df_merged[df_merged['Descricao'].isnull()]\n"
   ]
  },
  {
   "cell_type": "code",
   "execution_count": null,
   "metadata": {},
   "outputs": [],
   "source": [
    "# Fiz apenas consultas, para ver como está escrito no TJSP\n",
    "df_tjsp[df_tjsp['Descricao'].str.startswith('Estrela')]\n",
    "df_tjsp[df_tjsp['Descricao'].str.startswith('Luís')]\n",
    "df_tjsp[df_tjsp['Descricao'].str.startswith('Florí')]\n"
   ]
  },
  {
   "attachments": {},
   "cell_type": "markdown",
   "metadata": {},
   "source": [
    "<br>\n",
    "\n",
    "Uma vez que sei os erros dos nomes e são apenas 3 registros...\n",
    "Criei uma coluna duplicada para corrigir!\n"
   ]
  },
  {
   "cell_type": "code",
   "execution_count": null,
   "metadata": {},
   "outputs": [],
   "source": [
    "df_tjsp['Nome Corrigido'] = df_tjsp['Descricao']\n",
    "\n",
    "# Ajuste os Valores Errados\n",
    "df_tjsp['Nome Corrigido'] = df_tjsp['Nome Corrigido'].replace(\n",
    "    {\n",
    "        'Estrela dOeste': \"Estrela d'Oeste\",\n",
    "        'Luís Antônio': 'Luiz Antônio',\n",
    "        'Florínia': 'Florínea',\n",
    "    }\n",
    ")\n"
   ]
  },
  {
   "cell_type": "code",
   "execution_count": null,
   "metadata": {},
   "outputs": [],
   "source": [
    "# Checa se foi substituido na coluna \"Nome Corrigido\"\n",
    "df_tjsp[df_tjsp['Nome Corrigido'].str.startswith('Florí')]\n"
   ]
  },
  {
   "attachments": {},
   "cell_type": "markdown",
   "metadata": {},
   "source": [
    "<br>\n",
    "\n",
    "Por fim, checo novamente e vejo que não tem mais nada nulo! Excelente!\n"
   ]
  },
  {
   "cell_type": "code",
   "execution_count": null,
   "metadata": {},
   "outputs": [],
   "source": [
    "df_merged = pd.merge(\n",
    "    left=df_geo_mun,\n",
    "    right=df_tjsp,\n",
    "    left_on='municipio_nome',\n",
    "    right_on='Nome Corrigido',\n",
    "    how='left',\n",
    ")\n",
    "\n",
    "#\n",
    "display(df_merged[df_merged['Descricao'].isnull()])\n",
    "\n",
    "\n",
    "# Results\n",
    "df_merged.info()\n",
    "df_merged.head()\n"
   ]
  },
  {
   "cell_type": "code",
   "execution_count": null,
   "metadata": {},
   "outputs": [],
   "source": [
    "df_tjsp[df_tjsp['Comarca'] == 'É Município-Sede da Comarca']\n"
   ]
  },
  {
   "cell_type": "code",
   "execution_count": null,
   "metadata": {},
   "outputs": [],
   "source": [
    "df_merged = df_merged.drop(\n",
    "    ['Nome Corrigido', 'Unidades'], axis=1, errors='ignore'\n",
    ")\n"
   ]
  },
  {
   "cell_type": "code",
   "execution_count": null,
   "metadata": {},
   "outputs": [],
   "source": [
    "df_merged = df_merged.rename(\n",
    "    {\n",
    "        'id_municipio':'municipio_id',\n",
    "        'Comarca': 'comarca',\n",
    "        'cod_mun_tjsp': 'municipio_cod_tjsp',\n",
    "        'Codigo': 'cod_mun_tjsp',\n",
    "        'Descricao': 'municipio_nome_tjsp',\n",
    "    },\n",
    "    axis=1,\n",
    ")\n",
    "\n",
    "# Results\n",
    "df_merged.info()\n",
    "df_merged.head()\n"
   ]
  },
  {
   "cell_type": "code",
   "execution_count": null,
   "metadata": {},
   "outputs": [],
   "source": [
    "# Salva\n",
    "df_merged.to_csv(\n",
    "    input_path / 'Dim_Municipios.csv',\n",
    "    index=False,\n",
    ")\n",
    "df_merged.to_excel(\n",
    "    input_path / 'Dim_Municipios.xlsx',\n",
    "    sheet_name='Dim_Municipios',\n",
    "    index=False,\n",
    ")\n",
    "df_merged.head()"
   ]
  },
  {
   "attachments": {},
   "cell_type": "markdown",
   "metadata": {},
   "source": [
    "<br>\n",
    "\n",
    "## Análises das Comarcas\n"
   ]
  },
  {
   "attachments": {},
   "cell_type": "markdown",
   "metadata": {},
   "source": [
    "Inicialmente conferi se o nome dos Municípios definido pelo TJSP correspondem ao nome das Comarcas que levantei!\n",
    "\n",
    "Felizmente, pelo que analisei, a resposta é sim!\n"
   ]
  },
  {
   "cell_type": "code",
   "execution_count": null,
   "metadata": {},
   "outputs": [],
   "source": [
    "# Read Data\n",
    "df_tjsp = pd.read_csv(input_path / 'Dim_Municipios.csv')\n",
    "\n",
    "# Results\n",
    "df_tjsp.info()\n",
    "df_tjsp.head()\n"
   ]
  },
  {
   "attachments": {},
   "cell_type": "markdown",
   "metadata": {},
   "source": [
    "<br>\n",
    "\n",
    "Crio uma tabela temporária, apenas para conseguir, posteriormente, trazer os códigos do IBGE para a tabela das comarcas\n"
   ]
  },
  {
   "cell_type": "code",
   "execution_count": null,
   "metadata": {},
   "outputs": [],
   "source": [
    "# Comarca\n",
    "df_comarca = df_tjsp[df_tjsp['comarca'] == 'É Município-Sede da Comarca']\n",
    "df_comarca = df_comarca[\n",
    "    ['municipio_id', 'municipio_nome', 'municipio_nome_tjsp']\n",
    "]\n",
    "\n",
    "df_comarca = df_comarca.rename(\n",
    "    {\n",
    "        'municipio_id': 'comarca_id',\n",
    "        'municipio_nome': 'comarca_nome',\n",
    "        'municipio_nome_tjsp': 'comarca_nome_tjsp',\n",
    "    },\n",
    "    axis=1,\n",
    ")\n",
    "\n",
    "# Results\n",
    "df_comarca.info()\n",
    "df_comarca.head()\n"
   ]
  },
  {
   "cell_type": "code",
   "execution_count": null,
   "metadata": {},
   "outputs": [],
   "source": [
    "df_comarca = df_comarca.iloc[df_comarca['comarca_nome'].str.normalize('NFKD').argsort()]\n",
    "df_comarca = df_comarca.reset_index(drop=True)"
   ]
  },
  {
   "cell_type": "code",
   "execution_count": null,
   "metadata": {},
   "outputs": [],
   "source": [
    "# Salva\n",
    "df_comarca.to_csv(\n",
    "    input_path / 'Dim_Comarcas.csv',\n",
    "    index=False,\n",
    ")\n",
    "df_comarca.to_excel(\n",
    "    input_path / 'Dim_Comarcas.xlsx',\n",
    "    sheet_name='Comarcas',\n",
    "    index=False,\n",
    ")\n",
    "df_comarca.head()\n"
   ]
  },
  {
   "attachments": {},
   "cell_type": "markdown",
   "metadata": {},
   "source": [
    "<br>\n",
    "\n",
    "### Municípios"
   ]
  },
  {
   "cell_type": "code",
   "execution_count": null,
   "metadata": {},
   "outputs": [],
   "source": [
    "# Results\n",
    "df_tjsp.info()\n",
    "df_tjsp.head()\n"
   ]
  },
  {
   "cell_type": "code",
   "execution_count": null,
   "metadata": {},
   "outputs": [],
   "source": [
    "df_tjsp_merged = pd.merge(\n",
    "    left=df_tjsp,\n",
    "    right=df_comarca,\n",
    "    left_on='comarca',\n",
    "    right_on='comarca_nome_tjsp',\n",
    "    how='left',\n",
    ")\n",
    "\n",
    "df_tjsp_merged.head()\n"
   ]
  },
  {
   "cell_type": "code",
   "execution_count": null,
   "metadata": {},
   "outputs": [],
   "source": [
    "# Cria Máscara\n",
    "mask = df_tjsp_merged['comarca_id'].isnull()\n",
    "\n",
    "# O que for nulo, preenche!\n",
    "df_tjsp_merged.loc[mask, 'comarca_id'] = df_tjsp_merged['municipio_id']\n",
    "df_tjsp_merged.loc[mask, 'comarca_nome'] = df_tjsp_merged['municipio_nome']\n",
    "df_tjsp_merged.loc[mask, 'comarca_nome_tjsp'] = df_tjsp_merged['municipio_nome_tjsp']\n",
    "df_tjsp_merged['comarca_id'] = df_tjsp_merged['comarca_id'].astype('int')\n",
    "df_tjsp_merged.head()\n"
   ]
  },
  {
   "cell_type": "code",
   "execution_count": null,
   "metadata": {},
   "outputs": [],
   "source": [
    "# Cria Coluna Padrão\n",
    "df_tjsp_merged['comarca_munsede'] = 0\n",
    "\n",
    "# Cria Máscara\n",
    "mask = df_tjsp_merged['comarca'] == 'É Município-Sede da Comarca'\n",
    "df_tjsp_merged.loc[mask, 'comarca_munsede'] = 1\n",
    "\n",
    "#\n",
    "df_tjsp_merged.head()\n"
   ]
  },
  {
   "cell_type": "code",
   "execution_count": null,
   "metadata": {},
   "outputs": [],
   "source": [
    "# sss\n",
    "df_tjsp_merged = df_tjsp_merged[\n",
    "    [\n",
    "        'municipio_id',\n",
    "        'municipio_nome',\n",
    "        'municipio_cod_tjsp',\n",
    "        'municipio_nome_tjsp',\n",
    "        'comarca_id',\n",
    "        'comarca_munsede',\n",
    "    ]\n",
    "]\n",
    "\n",
    "# Results\n",
    "df_tjsp_merged.info()\n",
    "df_tjsp_merged.head()\n",
    "\n",
    "# Sort com Acentos\n",
    "# https://stackoverflow.com/questions/50217764/in-python-how-to-sort-a-dataframe-containing-accents\n",
    "df_tjsp_merged = df_tjsp_merged.iloc[\n",
    "    df_tjsp_merged['municipio_nome'].str.normalize('NFKD').argsort()\n",
    "]\n",
    "df_tjsp_merged = df_tjsp_merged.reset_index(drop=True)\n",
    "df_tjsp_merged\n"
   ]
  },
  {
   "cell_type": "code",
   "execution_count": null,
   "metadata": {},
   "outputs": [],
   "source": [
    "# Salva\n",
    "df_tjsp_merged.to_csv(\n",
    "    input_path / 'Dim_Municipios.csv',\n",
    "    index=False,\n",
    ")\n",
    "df_tjsp_merged.to_excel(\n",
    "    input_path / 'Dim_Municipios.xlsx',\n",
    "    sheet_name='Dim_Municipios',\n",
    "    index=False,\n",
    ")\n",
    "df_tjsp_merged.head()\n"
   ]
  },
  {
   "cell_type": "code",
   "execution_count": null,
   "metadata": {},
   "outputs": [],
   "source": []
  }
 ],
 "metadata": {
  "kernelspec": {
   "display_name": "pablocarreira-lastest",
   "language": "python",
   "name": "python3"
  },
  "language_info": {
   "codemirror_mode": {
    "name": "ipython",
    "version": 3
   },
   "file_extension": ".py",
   "mimetype": "text/x-python",
   "name": "python",
   "nbconvert_exporter": "python",
   "pygments_lexer": "ipython3",
   "version": "3.10.8"
  }
 },
 "nbformat": 4,
 "nbformat_minor": 2
}
