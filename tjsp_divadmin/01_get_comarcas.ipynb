{
 "cells": [
  {
   "attachments": {},
   "cell_type": "markdown",
   "id": "eb4059ce",
   "metadata": {},
   "source": [
    "<br>\n",
    "\n",
    "# Introdução\n",
    "\n",
    "- https://www.tjsp.jus.br/QuemSomos/QuemSomos/RegioesAdministrativasJudiciarias\n"
   ]
  },
  {
   "cell_type": "code",
   "execution_count": null,
   "id": "42768fb2",
   "metadata": {},
   "outputs": [],
   "source": [
    "#!pip3 install traquitanas\n"
   ]
  },
  {
   "cell_type": "code",
   "execution_count": null,
   "id": "8d807595",
   "metadata": {},
   "outputs": [],
   "source": [
    "import pandas as pd\n",
    "from bs4 import BeautifulSoup\n",
    "from my_driver import Driver\n",
    "from my_functions import find_text_between_parenthesis, keep_numbers\n",
    "from paths import adds_path, driver_path, input_path, logs_path\n",
    "from selenium import webdriver\n",
    "from selenium.webdriver.common.by import By\n",
    "from selenium.webdriver.firefox.options import Options as FirefoxOptions\n",
    "from selenium.webdriver.firefox.service import Service as FirefoxService\n",
    "from selenium.webdriver.support import expected_conditions as EC\n",
    "from selenium.webdriver.support.ui import Select\n",
    "from selenium.webdriver.support.wait import WebDriverWait\n",
    "from traquitanas.scrapping import adds, gecko\n"
   ]
  },
  {
   "attachments": {},
   "cell_type": "markdown",
   "id": "2d74b79f",
   "metadata": {},
   "source": [
    "<br>\n",
    "\n",
    "## Drivers\n"
   ]
  },
  {
   "cell_type": "code",
   "execution_count": null,
   "id": "a275f28d",
   "metadata": {},
   "outputs": [],
   "source": [
    "driver = Driver(\n",
    "    my_driver_path=driver_path,\n",
    "    my_logs_path=logs_path,\n",
    "    verify_ssl=False,\n",
    ")\n"
   ]
  },
  {
   "cell_type": "code",
   "execution_count": null,
   "id": "d1eb9854",
   "metadata": {},
   "outputs": [],
   "source": [
    "# Go TJSP\n",
    "URL = 'https://www.tjsp.jus.br/QuemSomos/QuemSomos/RegioesAdministrativasJudiciarias'\n",
    "driver.get(URL)\n",
    "driver.add_extension_xpath(my_adds_path=adds_path)\n",
    "\n",
    "# Windows\n",
    "# driver.window_handles\n",
    "# driver.switch_to.window(driver.window_handles[0])\n"
   ]
  },
  {
   "attachments": {},
   "cell_type": "markdown",
   "id": "8fcd63bd",
   "metadata": {},
   "source": [
    "<br>\n",
    "\n",
    "## Juízes Diretores\n"
   ]
  },
  {
   "cell_type": "code",
   "execution_count": null,
   "id": "4c299e55",
   "metadata": {},
   "outputs": [],
   "source": [
    "def get_rajs_info(raj_xpath):\n",
    "    \"\"\"\n",
    "    Retorna dicionário das Circuncrições Judiciárias\n",
    "\n",
    "    :param raj_xpath: selenium.element\n",
    "    :type raj_xpath: _type_\n",
    "    :return: _description_\n",
    "    :rtype: dictionary\n",
    "    \"\"\"\n",
    "    # Xpath\n",
    "    raj_nome_xpath = raj_xpath.find_element(\n",
    "        By.XPATH, './/p[@style=\"font-weight: bold\"]'\n",
    "    )\n",
    "    diretor_xpath = raj_nome_xpath.find_element(\n",
    "        By.XPATH, \"./following-sibling::p\"\n",
    "    )\n",
    "    email_xpath = diretor_xpath.find_element(By.XPATH, \"./following-sibling::p\")\n",
    "\n",
    "    return {\n",
    "        'raj_nome': raj_nome_xpath.text,\n",
    "        'juiz_diretor': diretor_xpath.text,\n",
    "        'email': email_xpath.text,\n",
    "    }\n"
   ]
  },
  {
   "cell_type": "code",
   "execution_count": null,
   "id": "758d7170",
   "metadata": {},
   "outputs": [],
   "source": [
    "# Localiza <div> irmã dos \"Juízes Diretores\"\n",
    "juiz_xpath = driver.find_element(By.XPATH, '//*[text()=\"Juízes Diretores\"]//..')\n",
    "print(juiz_xpath.text)\n"
   ]
  },
  {
   "cell_type": "code",
   "execution_count": null,
   "id": "aa4575e1",
   "metadata": {},
   "outputs": [],
   "source": [
    "# RAJs\n",
    "rajs_xpath = juiz_xpath.find_element(By.XPATH, './following-sibling::div')\n",
    "\n",
    "# Comarcas (linhas)\n",
    "comarcas_xpath = rajs_xpath.find_elements(\n",
    "    By.XPATH, './/li[@class=\"list-group-item\"]'\n",
    ")\n",
    "print(len(comarcas_xpath))\n"
   ]
  },
  {
   "cell_type": "code",
   "execution_count": null,
   "id": "a947931c",
   "metadata": {},
   "outputs": [],
   "source": [
    "list_comarcas = []\n",
    "for comarca_xpath in comarcas_xpath:\n",
    "    # Comarca\n",
    "    print(comarca_xpath.text)\n",
    "\n",
    "    # Procura\n",
    "    raj_xpath = comarca_xpath.find_element(\n",
    "        By.XPATH, './../preceding-sibling::div'\n",
    "    )\n",
    "\n",
    "    # CJs\n",
    "    dict_circuncricao = None\n",
    "    dict_circuncricao = get_rajs_info(raj_xpath)\n",
    "    dict_circuncricao.update({'comarca_cirscunscricao': comarca_xpath.text})\n",
    "\n",
    "    # Lista de Comarcas\n",
    "    list_comarcas.append(dict_circuncricao)\n"
   ]
  },
  {
   "cell_type": "code",
   "execution_count": null,
   "id": "32019df1",
   "metadata": {},
   "outputs": [],
   "source": [
    "# Results\n",
    "list_comarcas[:2]\n"
   ]
  },
  {
   "cell_type": "code",
   "execution_count": null,
   "id": "77c7eb01",
   "metadata": {},
   "outputs": [],
   "source": [
    "# Create Table\n",
    "df = pd.DataFrame(list_comarcas)\n",
    "\n",
    "# Results\n",
    "df.info()\n",
    "df.head()\n"
   ]
  },
  {
   "attachments": {},
   "cell_type": "markdown",
   "id": "f3e74d60",
   "metadata": {},
   "source": [
    "<br>\n",
    "\n",
    "## Adjust Table\n"
   ]
  },
  {
   "cell_type": "code",
   "execution_count": null,
   "id": "944ff330",
   "metadata": {},
   "outputs": [],
   "source": [
    "# Adjust Data\n",
    "df['raj_nome'] = df['raj_nome'].str.replace('–', '-')\n",
    "df[['raj_sigla', 'raj_regiao']] = df['raj_nome'].str.split(' - ', expand=True)\n",
    "df[['comarca', 'cj_sigla']] = df['comarca_cirscunscricao'].str.split(\n",
    "    ' - ', expand=True\n",
    ")\n",
    "\n",
    "# Números\n",
    "df['raj_id'] = df['raj_sigla'].apply(lambda x: keep_numbers(x))\n",
    "df['cj_id'] = df['cj_sigla'].apply(lambda x: keep_numbers(x))\n",
    "df['cj_nome'] = df['cj_sigla'].replace(\n",
    "    'CJ', 'Circunscrição Judiciária', regex=True\n",
    ")\n",
    "\n",
    "# Prefixo\n",
    "df['juiz_diretor'] = (\n",
    "    df['juiz_diretor']\n",
    "    .replace('Juiza diretora: ', '', regex=True)\n",
    "    .replace('Juiz diretor: ', '', regex=True)\n",
    ")\n",
    "df['email'] = df['email'].apply(lambda x: find_text_between_parenthesis(x))\n",
    "\n",
    "# Results\n",
    "df.info()\n",
    "df.head()\n"
   ]
  },
  {
   "cell_type": "code",
   "execution_count": null,
   "id": "88f7e422",
   "metadata": {},
   "outputs": [],
   "source": [
    "list(df.columns)\n"
   ]
  },
  {
   "cell_type": "code",
   "execution_count": null,
   "id": "a7653c5d",
   "metadata": {},
   "outputs": [],
   "source": [
    "df = df[\n",
    "    [\n",
    "        # RAJ\n",
    "        'raj_id',\n",
    "        'raj_nome',\n",
    "        'raj_sigla',\n",
    "        'raj_regiao',\n",
    "        'juiz_diretor',\n",
    "        'email',\n",
    "        # CJ\n",
    "        'cj_id',\n",
    "        'cj_nome',\n",
    "        'cj_sigla',\n",
    "        # Comarca\n",
    "        'comarca',\n",
    "    ]\n",
    "]\n",
    "\n",
    "# Results\n",
    "df.info()\n",
    "df.head()\n"
   ]
  },
  {
   "attachments": {},
   "cell_type": "markdown",
   "id": "94a11717",
   "metadata": {},
   "source": [
    "<br>\n",
    "\n",
    "## Results\n"
   ]
  },
  {
   "attachments": {},
   "cell_type": "markdown",
   "id": "70861edb",
   "metadata": {},
   "source": [
    "<br>\n",
    "\n",
    "### RAJs\n"
   ]
  },
  {
   "cell_type": "code",
   "execution_count": null,
   "id": "41abf975",
   "metadata": {},
   "outputs": [],
   "source": [
    "df_raj = df[\n",
    "    [\n",
    "        # RAJ\n",
    "        'raj_id',\n",
    "        'raj_nome',\n",
    "        'raj_sigla',\n",
    "        'raj_regiao',\n",
    "        'juiz_diretor',\n",
    "        'email',\n",
    "    ]\n",
    "]\n",
    "\n",
    "df_raj = df_raj.drop_duplicates()\n",
    "df_raj = df_raj.sort_values(by='raj_id')\n",
    "df_raj = df_raj.reset_index(drop=True)\n",
    "display(df_raj.head())\n",
    "\n",
    "df_raj.to_csv(\n",
    "    input_path / 'Dim_RAJs.csv',\n",
    "    index=False,\n",
    ")\n",
    "\n",
    "df_raj.to_excel(\n",
    "    input_path / 'Dim_RAJs.xlsx',\n",
    "    index=False,\n",
    "    sheet_name='Dim_RAJs',\n",
    ")\n"
   ]
  },
  {
   "attachments": {},
   "cell_type": "markdown",
   "id": "9218d132",
   "metadata": {},
   "source": [
    "<br>\n",
    "\n",
    "### CJs\n"
   ]
  },
  {
   "cell_type": "code",
   "execution_count": null,
   "id": "c2b8ae6f",
   "metadata": {},
   "outputs": [],
   "source": [
    "df_cjs = df[\n",
    "    [\n",
    "        # CJ\n",
    "        'cj_id',\n",
    "        'cj_nome',\n",
    "        'cj_sigla',\n",
    "        'raj_id',\n",
    "    ]\n",
    "]\n",
    "\n",
    "df_cjs.loc[df_cjs['cj_id'] == '', 'cj_id'] = '0'\n",
    "df_cjs['cj_id'] = df_cjs['cj_id'].copy()\n",
    "df_cjs['cj_id'] = df_cjs['cj_id'].astype('int')\n",
    "df_cjs = df_cjs.drop_duplicates()\n",
    "df_cjs = df_cjs.sort_values(by='cj_id')\n",
    "df_cjs = df_cjs.reset_index(drop=True)\n",
    "display(df_cjs.head())\n",
    "\n",
    "df_cjs.to_csv(\n",
    "    input_path / 'Dim_CircunscricaoJudiciaria.csv',\n",
    "    index=False,\n",
    ")\n",
    "\n",
    "df_cjs.to_excel(\n",
    "    input_path / 'Dim_CircunscricaoJudiciaria.xlsx',\n",
    "    index=False,\n",
    "    sheet_name='Dim_CircunscricaoJudiciaria',\n",
    ")\n"
   ]
  },
  {
   "attachments": {},
   "cell_type": "markdown",
   "id": "bb3bec87",
   "metadata": {},
   "source": [
    "<br>\n",
    "\n",
    "### Comarcas\n"
   ]
  },
  {
   "cell_type": "code",
   "execution_count": null,
   "id": "05510a93",
   "metadata": {},
   "outputs": [],
   "source": [
    "df_comarca = df[\n",
    "    [\n",
    "        # Comarca\n",
    "        'comarca',\n",
    "        'cj_id',\n",
    "    ]\n",
    "]\n",
    "\n",
    "df_comarca.loc[df_comarca['cj_id'] == '', 'cj_id'] = '0'\n",
    "df_comarca['cj_id'] = df_comarca['cj_id'].copy()\n",
    "df_comarca['cj_id'] = df_comarca['cj_id'].astype('int')\n",
    "df_comarca = df_comarca.drop_duplicates()\n",
    "\n",
    "df_comarca = df_comarca.rename(\n",
    "    {\n",
    "        'comarca': 'comarca_nome_tjsp',\n",
    "    },\n",
    "    axis=1,\n",
    ")\n",
    "\n",
    "df_comarca = df_comarca.sort_values(by='comarca_nome_tjsp')\n",
    "df_comarca = df_comarca.iloc[\n",
    "    df_comarca['comarca_nome_tjsp'].str.normalize('NFKD').argsort()\n",
    "]\n",
    "df_comarca = df_comarca.reset_index(drop=True)\n",
    "display(df_comarca.head())\n",
    "\n",
    "df_comarca.to_csv(\n",
    "    input_path / 'Dim_Comarcas_CJs.csv',\n",
    "    index=False,\n",
    ")\n",
    "\n",
    "df_comarca.to_excel(\n",
    "    input_path / 'Dim_Comarcas_CJs.xlsx',\n",
    "    index=False,\n",
    "    sheet_name='Dim_Comarcas_CJs',\n",
    ")\n"
   ]
  },
  {
   "cell_type": "code",
   "execution_count": null,
   "id": "f89575c0",
   "metadata": {},
   "outputs": [],
   "source": [
    "comarcas = df['comarca']\n",
    "\n",
    "print(f'São {len(comarcas)} comarcas')\n",
    "print(f'São {len(set(comarcas))} comarcas')\n"
   ]
  },
  {
   "cell_type": "code",
   "execution_count": null,
   "id": "ed850899",
   "metadata": {},
   "outputs": [],
   "source": [
    "driver.quit()\n"
   ]
  },
  {
   "cell_type": "code",
   "execution_count": null,
   "id": "08e07558",
   "metadata": {},
   "outputs": [],
   "source": []
  }
 ],
 "metadata": {
  "kernelspec": {
   "display_name": "Python 3.10.6 ('pablocarreira-lastest')",
   "language": "python",
   "name": "python3"
  },
  "language_info": {
   "codemirror_mode": {
    "name": "ipython",
    "version": 3
   },
   "file_extension": ".py",
   "mimetype": "text/x-python",
   "name": "python",
   "nbconvert_exporter": "python",
   "pygments_lexer": "ipython3",
   "version": "3.10.8"
  },
  "vscode": {
   "interpreter": {
    "hash": "4fe01b1e548a48625e93ad3ec9d7217eaa82c8c5a1273b2b8580787b5d806f08"
   }
  }
 },
 "nbformat": 4,
 "nbformat_minor": 5
}
