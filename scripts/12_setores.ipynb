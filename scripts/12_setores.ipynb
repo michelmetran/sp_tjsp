{
 "cells": [
  {
   "attachments": {},
   "cell_type": "markdown",
   "id": "eb4059ce",
   "metadata": {},
   "source": [
    "<br>\n",
    "\n",
    "# Introdução\n",
    "\n",
    "- https://www.tjsp.jus.br/QuemSomos/QuemSomos/RegioesAdministrativasJudiciarias\n"
   ]
  },
  {
   "cell_type": "code",
   "execution_count": null,
   "id": "f5abae38",
   "metadata": {},
   "outputs": [],
   "source": [
    "#!pip3 install requests-ip-rotator"
   ]
  },
  {
   "cell_type": "code",
   "execution_count": null,
   "id": "42768fb2",
   "metadata": {},
   "outputs": [],
   "source": [
    "#!pip3 install traquitanas"
   ]
  },
  {
   "cell_type": "code",
   "execution_count": null,
   "id": "8d807595",
   "metadata": {},
   "outputs": [],
   "source": [
    "import concurrent\n",
    "import os\n",
    "import re\n",
    "from typing import Literal\n",
    "\n",
    "import pandas as pd\n",
    "import requests\n",
    "from bs4 import BeautifulSoup\n",
    "from dotenv import load_dotenv\n",
    "from open_geodata import geo\n",
    "from requests_ip_rotator import ApiGateway\n",
    "from selenium.webdriver.common.by import By\n",
    "\n",
    "from sp_tjsp_divadmin.my_driver import Driver\n",
    "from sp_tjsp_divadmin.my_functions import (\n",
    "    find_text_between_parenthesis,\n",
    "    keep_numbers,\n",
    ")\n",
    "from sp_tjsp_divadmin.my_paths import (\n",
    "    adds_path,\n",
    "    driver_path,\n",
    "    logs_path,\n",
    "    output_path_tab,\n",
    ")"
   ]
  },
  {
   "cell_type": "code",
   "execution_count": null,
   "id": "3027a0c0",
   "metadata": {},
   "outputs": [],
   "source": [
    "from selenium import webdriver\n",
    "from selenium.webdriver.firefox.options import Options as FirefoxOptions\n",
    "from selenium.webdriver.firefox.service import Service as FirefoxService\n",
    "from selenium.webdriver.support import expected_conditions as EC\n",
    "from selenium.webdriver.support.ui import Select\n",
    "from selenium.webdriver.support.wait import WebDriverWait\n",
    "from traquitanas.scrapping import adds, gecko"
   ]
  },
  {
   "cell_type": "code",
   "execution_count": null,
   "id": "264b2ee3",
   "metadata": {},
   "outputs": [],
   "source": [
    "load_dotenv()\n",
    "\n",
    "aws_access_key_id = os.getenv('AWS_ACCESS_KEY_ID')\n",
    "aws_secret_access_key = os.getenv('AWS_SECRET_ACCESS_KEY')"
   ]
  },
  {
   "cell_type": "markdown",
   "id": "8dcd98f7",
   "metadata": {},
   "source": [
    "<br>\n",
    "\n",
    "## Imóveis\n"
   ]
  },
  {
   "cell_type": "markdown",
   "id": "04821023",
   "metadata": {},
   "source": [
    "Inicialmente montamos uma lista de termos que iremos utiliza para a pesquisa. Juntamos tanto a lista de Unidades, obtida em consulta anterior, como a lista com o nome de municípios."
   ]
  },
  {
   "cell_type": "code",
   "execution_count": null,
   "id": "51ad1fad",
   "metadata": {},
   "outputs": [],
   "source": [
    "# Preciso listar Imóveis para obter o código\n",
    "df_unidades = pd.read_csv(output_path_tab / 'Unidades.csv')\n",
    "list_unidades = list(df_unidades['unidades'])\n",
    "\n",
    "# Passa para lowercase\n",
    "list_unidades = [x.lower() for x in list_unidades]\n",
    "\n",
    "# Pega cada palavra\n",
    "list_unidades_words = [\n",
    "    word for phrase in list_unidades for word in phrase.split()\n",
    "]\n",
    "\n",
    "# Retira duplicados\n",
    "list_unidades_words = list(set(list_unidades_words))\n",
    "\n",
    "# Pega maior que 4 caracters\n",
    "list_unidades_words = [x for x in list_unidades_words if len(x) >= 4]\n",
    "\n",
    "# Results\n",
    "print(len(list_unidades_words))\n",
    "list_unidades_words[:10]"
   ]
  },
  {
   "cell_type": "code",
   "execution_count": null,
   "id": "d07b430c",
   "metadata": {},
   "outputs": [],
   "source": [
    "# Cria Lista\n",
    "df_geo_mun = geo.load_dataset('tab.sp.tab_municipio_nome')\n",
    "lista_municipios = list(df_geo_mun['municipio_nome'])\n",
    "\n",
    "# Passa para lowercase\n",
    "lista_municipios = [x.lower() for x in lista_municipios]\n",
    "\n",
    "# Pega cada palavra\n",
    "lista_municipios_words = [\n",
    "    word for phrase in lista_municipios for word in phrase.split()\n",
    "]\n",
    "\n",
    "# Retira duplicados\n",
    "lista_municipios_words = list(set(lista_municipios_words))\n",
    "\n",
    "# Pega maior que 4 caracters\n",
    "lista_municipios_words = [x for x in lista_municipios_words if len(x) >= 4]\n",
    "\n",
    "# Results\n",
    "print(len(lista_municipios_words))\n",
    "lista_municipios_words[:10]"
   ]
  },
  {
   "cell_type": "code",
   "execution_count": null,
   "id": "ce9fee1d",
   "metadata": {},
   "outputs": [],
   "source": [
    "list_search = list_unidades_words + lista_municipios_words\n",
    "list_search = list(set(list_search))\n",
    "\n",
    "print(len(list_search))\n",
    "list_search[0:10]"
   ]
  },
  {
   "cell_type": "code",
   "execution_count": null,
   "id": "6ba4bcf5",
   "metadata": {},
   "outputs": [],
   "source": [
    "# Cria Gateway\n",
    "gateway = ApiGateway(\n",
    "    site='https://www.tjsp.jus.br',\n",
    "    access_key_id=aws_access_key_id,\n",
    "    access_key_secret=aws_secret_access_key,\n",
    "    regions=['sa-east-1'],\n",
    "    verbose=True,\n",
    ")\n",
    "gateway.pool_connections = 10\n",
    "gateway.pool_maxsize = 10\n",
    "gateway.start()\n",
    "\n",
    "# Cria Session\n",
    "session = requests.Session()\n",
    "session.mount(prefix='https://www.tjsp.jus.br', adapter=gateway)"
   ]
  },
  {
   "cell_type": "code",
   "execution_count": null,
   "id": "528de97c",
   "metadata": {},
   "outputs": [],
   "source": [
    "def get_id_unidade(\n",
    "    unidade,\n",
    "    req_type: Literal['basic', 'aws'] = 'aws',\n",
    "    req_session=session,\n",
    ") -> pd.DataFrame:\n",
    "    \"\"\"\n",
    "    Obtem o código (ou ID) das Unidades (ou Imóveis) do TJSP\n",
    "\n",
    "    :param unidade: nome da Unidade, ou trecho do nome\n",
    "    :return: tabela com os valores\n",
    "    \"\"\"\n",
    "    # Get Data\n",
    "    if req_type == 'basic':\n",
    "        r = requests.post(\n",
    "            'https://www.tjsp.jus.br/AutoComplete/ListarImoveis',\n",
    "            json={'texto': unidade},\n",
    "        )\n",
    "    elif req_type == 'aws':\n",
    "        r = req_session.post(\n",
    "            'https://www.tjsp.jus.br/AutoComplete/ListarImoveis',\n",
    "            json={'texto': unidade},\n",
    "        )\n",
    "\n",
    "    # Se é lista vazia, ignora\n",
    "    if r.json() == 'listaVazia':\n",
    "        print(f'----------- Vazio em {unidade}')\n",
    "\n",
    "    # Se não é, registra!\n",
    "    else:\n",
    "        try:\n",
    "            df = pd.DataFrame(r.json())\n",
    "            df = df.rename(\n",
    "                mapper={\n",
    "                    'Codigo': 'id_unidade',\n",
    "                    'Descricao': 'unidade',\n",
    "                },\n",
    "                axis='columns',\n",
    "            )\n",
    "            return df\n",
    "        except:\n",
    "            print(f'>>>>>>>> Errou em {unidade}')"
   ]
  },
  {
   "cell_type": "code",
   "execution_count": null,
   "id": "e893de58",
   "metadata": {},
   "outputs": [],
   "source": [
    "get_id_unidade(unidade='Santos', req_type='basic')"
   ]
  },
  {
   "cell_type": "markdown",
   "id": "fea2f1c2",
   "metadata": {},
   "source": [
    "Inicialmente eu tentei utilizar um método básico para consultas, utilizando a biblioteca `requests`.\n",
    "\n",
    "```\n",
    "list_dfs = []\n",
    "for i in list_unidades:\n",
    "    list_dfs.append(get_id_unidade(unidade=i))\n",
    "\n",
    "\n",
    "df_unidades_ids = pd.concat(objs=list_dfs, ignore_index=True)\n",
    "df_unidades_ids\n",
    "```\n",
    "\n",
    "<br>\n",
    "\n",
    "Contudo, não estava nada eficente. Rodou trinta minutos e não baixou tudo... dai cancelei e procurei alternativas."
   ]
  },
  {
   "cell_type": "code",
   "execution_count": null,
   "id": "c1445e54",
   "metadata": {},
   "outputs": [],
   "source": [
    "# Encerra o worker\n",
    "# gateway.shutdown()"
   ]
  },
  {
   "cell_type": "code",
   "execution_count": null,
   "id": "d180fc67",
   "metadata": {},
   "outputs": [],
   "source": [
    "get_id_unidade(unidade='Santos', req_type='aws')"
   ]
  },
  {
   "cell_type": "code",
   "execution_count": null,
   "id": "82928e28",
   "metadata": {},
   "outputs": [],
   "source": [
    "# Parameters\n",
    "MAX_THREADS = 4\n",
    "list_dfs = []\n",
    "list_futures = []\n",
    "\n",
    "# Paralelo\n",
    "with concurrent.futures.ThreadPoolExecutor(max_workers=MAX_THREADS) as executor:\n",
    "    # Cria Lista de Tarefas\n",
    "    for un in list_search:\n",
    "        futures = executor.submit(get_id_unidade, un)\n",
    "        list_futures.append(futures)\n",
    "\n",
    "    # Executa Lista de Tarefas\n",
    "    for future in concurrent.futures.as_completed(list_futures):\n",
    "        print(future.result())\n",
    "        list_dfs.append(future.result())\n",
    "\n",
    "# Encerra o worker\n",
    "gateway.shutdown()"
   ]
  },
  {
   "cell_type": "code",
   "execution_count": null,
   "id": "ca790485",
   "metadata": {},
   "outputs": [],
   "source": [
    "# Junta\n",
    "df_unidades_ids = pd.concat(objs=list_dfs, ignore_index=True)\n",
    "df_unidades_ids = df_unidades_ids.drop_duplicates()\n",
    "df_unidades_ids = df_unidades_ids.sort_values(by='id_unidade', ascending=True)\n",
    "df_unidades_ids = df_unidades_ids.reset_index(drop=True)\n",
    "\n",
    "# Resultados\n",
    "df_unidades_ids.info()\n",
    "display(df_unidades_ids.head())\n",
    "display(df_unidades_ids.tail())"
   ]
  },
  {
   "cell_type": "markdown",
   "id": "d4537cae",
   "metadata": {},
   "source": [
    "Com isso descobrimos que apesar da \"força bruta\" não foi possível capturar todas as Unidades.\n"
   ]
  },
  {
   "cell_type": "code",
   "execution_count": null,
   "id": "7a13ef14",
   "metadata": {},
   "outputs": [],
   "source": [
    "# Pesquisar uma Unidade Específica\n",
    "df_unidades_ids[df_unidades_ids['id_unidade'] == 259]"
   ]
  },
  {
   "cell_type": "code",
   "execution_count": null,
   "id": "45851e02",
   "metadata": {},
   "outputs": [],
   "source": [
    "filename = 'Unidades Id'\n",
    "\n",
    "# Salva\n",
    "df_unidades_ids.to_csv(output_path_tab / f'{filename}.csv', index=False)\n",
    "df_unidades_ids.to_excel(\n",
    "    output_path_tab / f'{filename}.xlsx', sheet_name=f'{filename}', index=False\n",
    ")"
   ]
  },
  {
   "cell_type": "markdown",
   "id": "187d3a3b",
   "metadata": {},
   "source": [
    "<br>\n",
    "\n",
    "---\n",
    "\n",
    "## Detalhes das Unidades\n"
   ]
  },
  {
   "cell_type": "code",
   "execution_count": null,
   "id": "ad35a9cd",
   "metadata": {},
   "outputs": [],
   "source": [
    "def get_detalhes_unidades(\n",
    "    id_unidade,\n",
    "    req_type: Literal['basic', 'aws'] = 'aws',\n",
    "    req_session=session,\n",
    "):\n",
    "    \"\"\"\n",
    "    _summary_\n",
    "    # Uma vez com o Código do Imóvel, consigo obter detalhes\n",
    "    parmsEntrada=827&codigoTipoBusca=2\n",
    "    Aqui tem tudo que eu preciso!!!!\n",
    "    :param id_unidade: _description_\n",
    "    :type id_unidade: _type_\n",
    "    :param req_type: _description_, defaults to 'session'\n",
    "    :type req_type: Literal[&#39;basic&#39;, &#39;session&#39;], optional\n",
    "    :param req_session: _description_, defaults to session\n",
    "    :type req_session: _type_, optional\n",
    "    :return: _description_\n",
    "    :rtype: _type_\n",
    "    \"\"\"\n",
    "\n",
    "    if req_type == 'basic':\n",
    "        r = requests.post(\n",
    "            'https://www.tjsp.jus.br/ListaTelefonica/RetornarResultadoBusca',\n",
    "            json={'parmsEntrada': id_unidade, 'codigoTipoBusca': 2},\n",
    "        )\n",
    "\n",
    "    elif req_type == 'aws':\n",
    "        r = req_session.post(\n",
    "            'https://www.tjsp.jus.br/ListaTelefonica/RetornarResultadoBusca',\n",
    "            json={'parmsEntrada': id_unidade, 'codigoTipoBusca': 2},\n",
    "        )\n",
    "\n",
    "    soup = BeautifulSoup(r.text, 'html.parser')\n",
    "    return {'id_unidade': id_unidade, 'soup': soup}"
   ]
  },
  {
   "cell_type": "code",
   "execution_count": null,
   "id": "ca970483",
   "metadata": {},
   "outputs": [],
   "source": [
    "def get_detalhes_unidades_soup(res_get_detalhes_unidades):\n",
    "    \"\"\"\n",
    "    _summary_\n",
    "\n",
    "    :param soup: _description_\n",
    "    :return: _description_\n",
    "    \"\"\"\n",
    "    # Trbalha com input\n",
    "    soup = res_get_detalhes_unidades['soup']\n",
    "    id_unidade = res_get_detalhes_unidades['id_unidade']\n",
    "\n",
    "    # Parâmetros\n",
    "    try:\n",
    "        unidade = soup.find(name='h3', attrs={'id': 'imovelNome'}).text.strip()\n",
    "    except:\n",
    "        unidade = 'Sem nome'\n",
    "\n",
    "    endereco = (\n",
    "        soup.find(string=re.compile('.*Endereço.*', flags=re.DOTALL))\n",
    "        .parent.parent.find(name='dd')\n",
    "        .find(name='span')\n",
    "        .text.strip()\n",
    "    )\n",
    "\n",
    "    telefone = (\n",
    "        soup.find(string=re.compile('.*Telefone.*', flags=re.DOTALL))\n",
    "        .parent.parent.find(name='dd')\n",
    "        .find(name='span')\n",
    "        .text.strip()\n",
    "    )\n",
    "\n",
    "    fax = (\n",
    "        soup.find(string=re.compile('.*Fax.*', flags=re.DOTALL))\n",
    "        .parent.parent.find(name='dd')\n",
    "        .find(name='span')\n",
    "        .text.strip()\n",
    "    )\n",
    "\n",
    "    email = (\n",
    "        soup.find(string=re.compile('.*E-mail.*', flags=re.DOTALL))\n",
    "        .parent.parent.find(name='dd')\n",
    "        .find(name='span')\n",
    "        .text.strip()\n",
    "    )\n",
    "\n",
    "    cj: str = (\n",
    "        soup.find(\n",
    "            string=re.compile('.*Circunscrição Judiciária.*', flags=re.DOTALL)\n",
    "        )\n",
    "        .parent.parent.find(name='dd')\n",
    "        .find(name='span')\n",
    "        .text.strip()\n",
    "    )\n",
    "\n",
    "    num_varas_instaladas = (\n",
    "        soup.find(\n",
    "            string=re.compile('.*Número de Varas Instaladas.*', flags=re.DOTALL)\n",
    "        )\n",
    "        .parent.parent.find(name='dd')\n",
    "        .find(name='span')\n",
    "        .text.strip()\n",
    "    )\n",
    "\n",
    "    entrancia = (\n",
    "        soup.find(string=re.compile('.*Entrância.*', flags=re.DOTALL))\n",
    "        .parent.parent.find(name='dd')\n",
    "        .find(name='span')\n",
    "        .text.strip()\n",
    "    )\n",
    "\n",
    "    # re.compile('.*Comarca.*', flags=re.DOTALL)\n",
    "    comarca = (\n",
    "        soup.find('dt', string=re.compile('.*Comarca.*', flags=re.DOTALL))\n",
    "        .parent.parent.find(name='dd')\n",
    "        .find(name='span')\n",
    "        .text.strip()\n",
    "    )\n",
    "\n",
    "    dist_capital = (\n",
    "        soup.find(\n",
    "            string=re.compile('.*Distância da Capital.*', flags=re.DOTALL)\n",
    "        )\n",
    "        .parent.parent.find(name='dd')\n",
    "        .find(name='span')\n",
    "        .text.strip()\n",
    "    )\n",
    "\n",
    "    tensao_eletrica = (\n",
    "        soup.find(string=re.compile('.*Tensão Elétrica.*', flags=re.DOTALL))\n",
    "        .parent.parent.find(name='dd')\n",
    "        .find(name='span')\n",
    "        .text.strip()\n",
    "    )\n",
    "\n",
    "    tj_dict = {\n",
    "        'id_unidade': id_unidade,\n",
    "        'unidade': unidade,\n",
    "        'endereco': endereco,\n",
    "        'telefone': telefone,\n",
    "        'fax': fax,\n",
    "        'email': email,\n",
    "        'cj': cj,\n",
    "        'num_varas_instaladas': num_varas_instaladas,\n",
    "        'entrancia': entrancia,\n",
    "        'comarca': comarca,\n",
    "        'dist_capital': dist_capital,\n",
    "        'tensao_eletrica': tensao_eletrica,\n",
    "    }\n",
    "\n",
    "    return tj_dict"
   ]
  },
  {
   "cell_type": "code",
   "execution_count": null,
   "id": "6958511a",
   "metadata": {},
   "outputs": [],
   "source": [
    "id_unidade = 88\n",
    "results = get_detalhes_unidades(id_unidade=id_unidade, req_type='basic')\n",
    "soup = results['soup']\n",
    "#print(soup.prettify())\n",
    "get_detalhes_unidades_soup(res_get_detalhes_unidades=results)"
   ]
  },
  {
   "cell_type": "code",
   "execution_count": null,
   "id": "620872f1",
   "metadata": {},
   "outputs": [],
   "source": [
    "# # re.compile('.*Comarca.*', flags=re.DOTALL)\n",
    "# # re.compile('.*Comarca.*', flags=re.DOTALL)\n",
    "# comarca = (    \n",
    "#     soup.find('dt', string=re.compile('.*Comarca.*', flags=re.DOTALL))\n",
    "#     .parent.parent.find(name='dd')\n",
    "#     .find(name='span')\n",
    "#     .text.strip()\n",
    "# )\n",
    "# comarca"
   ]
  },
  {
   "cell_type": "code",
   "execution_count": null,
   "id": "4316407c",
   "metadata": {},
   "outputs": [],
   "source": [
    "#print(soup.prettify())"
   ]
  },
  {
   "cell_type": "code",
   "execution_count": null,
   "id": "488a407e",
   "metadata": {},
   "outputs": [],
   "source": [
    "def get_unidades(id_unidade=id_unidade):\n",
    "    soup = get_detalhes_unidades(\n",
    "        id_unidade=id_unidade, req_type='aws', req_session=session\n",
    "    )\n",
    "    dd = get_detalhes_unidades_soup(res_get_detalhes_unidades=soup)\n",
    "    return dd"
   ]
  },
  {
   "cell_type": "code",
   "execution_count": null,
   "id": "faee2d7b",
   "metadata": {},
   "outputs": [],
   "source": [
    "id_unidade = 1\n",
    "get_unidades(id_unidade=id_unidade)"
   ]
  },
  {
   "cell_type": "code",
   "execution_count": null,
   "id": "41f8a8cd",
   "metadata": {},
   "outputs": [],
   "source": [
    "# Parameters\n",
    "MAX_THREADS = 4\n",
    "list_dfs = []\n",
    "list_futures = []\n",
    "\n",
    "# Paralelo\n",
    "with concurrent.futures.ThreadPoolExecutor(max_workers=MAX_THREADS) as executor:\n",
    "    # Cria Lista de Tarefas\n",
    "    for i in range(1, 1500):\n",
    "        futures = executor.submit(get_unidades, i)\n",
    "        list_futures.append(futures)\n",
    "\n",
    "    # Executa Lista de Tarefas\n",
    "    for future in concurrent.futures.as_completed(list_futures):\n",
    "        print(future.result())\n",
    "        list_dfs.append(future.result())\n",
    "\n",
    "# Encerra o worker\n",
    "gateway.shutdown()"
   ]
  },
  {
   "cell_type": "code",
   "execution_count": null,
   "id": "e2b765f6",
   "metadata": {},
   "outputs": [],
   "source": [
    "pd.DataFrame([{'list': '1', 'fff': '2'}, {'list': '1', 'fff': '2'}])"
   ]
  },
  {
   "cell_type": "code",
   "execution_count": null,
   "id": "3f5ea021",
   "metadata": {},
   "outputs": [],
   "source": [
    "df_unidades_infos = pd.DataFrame(list_dfs)\n",
    "df_unidades_infos = df_unidades_infos.drop_duplicates()\n",
    "df_unidades_infos = df_unidades_infos.sort_values(by='id_unidade', ascending=True)\n",
    "df_unidades_infos = df_unidades_infos.reset_index(drop=True)\n",
    "\n",
    "# Results\n",
    "df_unidades_infos.info()\n",
    "display(df_unidades_infos.head())\n",
    "display(df_unidades_infos.tail())"
   ]
  },
  {
   "cell_type": "code",
   "execution_count": null,
   "id": "0f1b629f",
   "metadata": {},
   "outputs": [],
   "source": [
    "# Remove ; do fim da coluna\n",
    "df_unidades_infos['telefone'] = df_unidades_infos['telefone'].str.replace(r'\\;$', '', regex=True)\n",
    "df_unidades_infos['fax'] = df_unidades_infos['fax'].str.replace(r'\\;$', '', regex=True)"
   ]
  },
  {
   "cell_type": "code",
   "execution_count": null,
   "id": "51f21d5d",
   "metadata": {},
   "outputs": [],
   "source": [
    "# Aplica strip em todo o dataframe\n",
    "df_unidades_infos = df_unidades_infos.map(lambda x: x.strip() if isinstance(x, str) else x)"
   ]
  },
  {
   "cell_type": "code",
   "execution_count": null,
   "id": "0c498003",
   "metadata": {},
   "outputs": [],
   "source": [
    "mask = (\n",
    "    (df_unidades_infos['unidade'] == '')\n",
    "    & (df_unidades_infos['telefone'] == 'Não Informado')\n",
    "    & (df_unidades_infos['fax'] == 'Não Informado')\n",
    "    & (df_unidades_infos['email'] == 'Não Informado')\n",
    "    & (df_unidades_infos['cj'] == 'Não Informado')\n",
    "    & (df_unidades_infos['entrancia'] == 'Não Informado')\n",
    "    & (df_unidades_infos['comarca'] == 'Não Informado')\n",
    "    & (df_unidades_infos['dist_capital'] == 'Não Informado')\n",
    "    & (df_unidades_infos['tensao_eletrica'] == 'Não Informado')\n",
    ")\n",
    "df_unidades_infos = df_unidades_infos[~mask]\n",
    "df_unidades_infos"
   ]
  },
  {
   "cell_type": "code",
   "execution_count": null,
   "id": "062864da",
   "metadata": {},
   "outputs": [],
   "source": [
    "filename = 'Unidades Detalhes e Infos'\n",
    "\n",
    "# Salva\n",
    "df_unidades_infos.to_csv(output_path_tab / f'{filename}.csv', index=False)\n",
    "df_unidades_infos.to_excel(\n",
    "    output_path_tab / f'{filename}.xlsx', sheet_name=f'{filename}', index=False\n",
    ")"
   ]
  },
  {
   "cell_type": "code",
   "execution_count": null,
   "id": "e5b11726",
   "metadata": {},
   "outputs": [],
   "source": []
  },
  {
   "cell_type": "code",
   "execution_count": null,
   "id": "898404b7",
   "metadata": {},
   "outputs": [],
   "source": [
    "# list_tags = soup.find_all(name='dt')\n",
    "# list_tags\n",
    "# a = list_tags[2]\n",
    "# a.find_next_sibling('dd').text.strip()"
   ]
  },
  {
   "cell_type": "markdown",
   "id": "60471e48",
   "metadata": {},
   "source": [
    "<br>\n",
    "\n",
    "## Setores\n"
   ]
  },
  {
   "cell_type": "code",
   "execution_count": null,
   "id": "d8de8f6a",
   "metadata": {},
   "outputs": [],
   "source": [
    "def get_id_setor(setor) -> pd.DataFrame:\n",
    "    \"\"\"\n",
    "    Obtem o código (ou ID) dos Setores do TJSP\n",
    "\n",
    "    :param unidade: _description_\n",
    "    :return: tabela com os valores\n",
    "    \"\"\"\n",
    "    # Get Data\n",
    "    r = requests.post(\n",
    "        'https://www.tjsp.jus.br/AutoComplete/ListarSetores',\n",
    "        json={'texto': setor},\n",
    "    )\n",
    "\n",
    "    # Se é lista vazia, ignora\n",
    "    if r.json() == 'listaVazia':\n",
    "        pass\n",
    "\n",
    "    # Se não é, registra!\n",
    "    else:\n",
    "        df = pd.DataFrame(r.json())\n",
    "        df = df.rename(\n",
    "            mapper={\n",
    "                'Codigo': 'id_setor',\n",
    "                'Descricao': 'setor',\n",
    "            },\n",
    "            axis='columns',\n",
    "        )\n",
    "        df[['setor', 'unidade']] = df['setor'].str.split('|', expand=True)\n",
    "        df = df.sort_values(by='id_setor', ascending=True)\n",
    "        return df\n",
    "\n",
    "\n",
    "#\n",
    "df = get_id_setor(setor=list_unidades[0])\n",
    "df.to_clipboard()\n",
    "df"
   ]
  },
  {
   "cell_type": "code",
   "execution_count": null,
   "id": "19f76b01",
   "metadata": {},
   "outputs": [],
   "source": [
    "https://www.tjsp.jus.br/ListaTelefonica/RetornarResultadoBusca\n",
    "parmsEntrada=3534&codigoTipoBusca=3"
   ]
  },
  {
   "cell_type": "code",
   "execution_count": null,
   "id": "054d6257",
   "metadata": {},
   "outputs": [],
   "source": [
    "# Uma vez com o Código do Imóvel, consigo obter detalhes\n",
    "def get_detalhes_setor(id_setor):\n",
    "    r = requests.post(\n",
    "        'https://www.tjsp.jus.br/ListaTelefonica/RetornarResultadoBusca',\n",
    "        json={'parmsEntrada': id_setor, 'codigoTipoBusca': 3},\n",
    "    )\n",
    "    soup = BeautifulSoup(r.text, 'html.parser')\n",
    "    return soup\n",
    "\n",
    "\n",
    "# parmsEntrada=827&codigoTipoBusca=2\n",
    "# Aqui tem tudo que eu preciso!!!!"
   ]
  },
  {
   "cell_type": "code",
   "execution_count": null,
   "id": "0a518177",
   "metadata": {},
   "outputs": [],
   "source": [
    "soup = get_detalhes_setor(id_setor=3534)\n",
    "print(soup.prettify())"
   ]
  },
  {
   "cell_type": "code",
   "execution_count": null,
   "id": "67974a85",
   "metadata": {},
   "outputs": [],
   "source": [
    "tel_principal = (\n",
    "    soup.find(string=re.compile('.*Telefone Principal.*', flags=re.DOTALL))\n",
    "    .parent.parent.find(name='dd')\n",
    "    .find(name='span')\n",
    "    .text.strip()\n",
    ")\n",
    "\n",
    "tel_principal"
   ]
  },
  {
   "attachments": {},
   "cell_type": "markdown",
   "id": "2d74b79f",
   "metadata": {},
   "source": [
    "<br>\n",
    "\n",
    "## Drivers\n"
   ]
  },
  {
   "cell_type": "code",
   "execution_count": null,
   "id": "a275f28d",
   "metadata": {},
   "outputs": [],
   "source": [
    "driver = Driver(\n",
    "    my_driver_path=driver_path,\n",
    "    my_logs_path=logs_path,\n",
    "    verify_ssl=False,\n",
    ")\n",
    "driver.add_extension_xpath(my_adds_path=adds_path)"
   ]
  },
  {
   "cell_type": "code",
   "execution_count": null,
   "id": "d1eb9854",
   "metadata": {},
   "outputs": [],
   "source": [
    "# Go TJSP\n",
    "URL = 'https://www.tjsp.jus.br/CanaisComunicacao/ListaTelefonica/Index'\n",
    "driver.get(URL)"
   ]
  },
  {
   "attachments": {},
   "cell_type": "markdown",
   "id": "8fcd63bd",
   "metadata": {},
   "source": [
    "<br>\n",
    "\n",
    "## Juízes Diretores\n"
   ]
  },
  {
   "cell_type": "code",
   "execution_count": null,
   "id": "4c299e55",
   "metadata": {},
   "outputs": [],
   "source": [
    "def get_rajs_info(raj_xpath):\n",
    "    \"\"\"\n",
    "    Retorna dicionário das Circuncrições Judiciárias\n",
    "\n",
    "    :param raj_xpath: selenium.element\n",
    "    :type raj_xpath: _type_\n",
    "    :return: _description_\n",
    "    :rtype: dictionary\n",
    "    \"\"\"\n",
    "    # Xpath\n",
    "    raj_nome_xpath = raj_xpath.find_element(\n",
    "        By.XPATH, './/p[@style=\"font-weight: bold\"]'\n",
    "    )\n",
    "    diretor_xpath = raj_nome_xpath.find_element(\n",
    "        By.XPATH, \"./following-sibling::p\"\n",
    "    )\n",
    "    email_xpath = diretor_xpath.find_element(By.XPATH, \"./following-sibling::p\")\n",
    "\n",
    "    return {\n",
    "        'raj_nome': raj_nome_xpath.text,\n",
    "        'juiz_diretor': diretor_xpath.text,\n",
    "        'email': email_xpath.text,\n",
    "    }"
   ]
  },
  {
   "cell_type": "code",
   "execution_count": null,
   "id": "758d7170",
   "metadata": {},
   "outputs": [],
   "source": [
    "# Localiza <div> irmã dos \"Juízes Diretores\"\n",
    "juiz_xpath = driver.find_element(By.XPATH, '//*[text()=\"Juízes Diretores\"]//..')\n",
    "print(juiz_xpath.text)"
   ]
  },
  {
   "cell_type": "code",
   "execution_count": null,
   "id": "aa4575e1",
   "metadata": {},
   "outputs": [],
   "source": [
    "# RAJs\n",
    "rajs_xpath = juiz_xpath.find_element(By.XPATH, './following-sibling::div')\n",
    "\n",
    "# Comarcas (linhas)\n",
    "comarcas_xpath = rajs_xpath.find_elements(\n",
    "    By.XPATH, './/li[@class=\"list-group-item\"]'\n",
    ")\n",
    "print(len(comarcas_xpath))"
   ]
  },
  {
   "cell_type": "code",
   "execution_count": null,
   "id": "a947931c",
   "metadata": {},
   "outputs": [],
   "source": [
    "list_comarcas = []\n",
    "for comarca_xpath in comarcas_xpath:\n",
    "    # Comarca\n",
    "    print(comarca_xpath.text)\n",
    "\n",
    "    # Procura\n",
    "    raj_xpath = comarca_xpath.find_element(\n",
    "        By.XPATH, './../preceding-sibling::div'\n",
    "    )\n",
    "\n",
    "    # CJs\n",
    "    dict_circuncricao = None\n",
    "    dict_circuncricao = get_rajs_info(raj_xpath)\n",
    "    dict_circuncricao.update({'comarca_cirscunscricao': comarca_xpath.text})\n",
    "\n",
    "    # Lista de Comarcas\n",
    "    list_comarcas.append(dict_circuncricao)"
   ]
  },
  {
   "cell_type": "code",
   "execution_count": null,
   "id": "32019df1",
   "metadata": {},
   "outputs": [],
   "source": [
    "# Results\n",
    "list_comarcas[:2]"
   ]
  },
  {
   "cell_type": "code",
   "execution_count": null,
   "id": "77c7eb01",
   "metadata": {},
   "outputs": [],
   "source": [
    "# Create Table\n",
    "df = pd.DataFrame(list_comarcas)\n",
    "\n",
    "# Results\n",
    "df.info()\n",
    "df.head()"
   ]
  },
  {
   "attachments": {},
   "cell_type": "markdown",
   "id": "f3e74d60",
   "metadata": {},
   "source": [
    "<br>\n",
    "\n",
    "## Adjust Table\n"
   ]
  },
  {
   "cell_type": "code",
   "execution_count": null,
   "id": "944ff330",
   "metadata": {},
   "outputs": [],
   "source": [
    "# Adjust Data\n",
    "df['raj_nome'] = df['raj_nome'].str.replace('–', '-')\n",
    "df[['raj_sigla', 'raj_regiao']] = df['raj_nome'].str.split(' - ', expand=True)\n",
    "df[['comarca', 'cj_sigla']] = df['comarca_cirscunscricao'].str.split(\n",
    "    ' - ', expand=True\n",
    ")\n",
    "\n",
    "# Números\n",
    "df['raj_id'] = df['raj_sigla'].apply(lambda x: keep_numbers(x))\n",
    "df['cj_id'] = df['cj_sigla'].apply(lambda x: keep_numbers(x))\n",
    "df['cj_nome'] = df['cj_sigla'].replace(\n",
    "    'CJ', 'Circunscrição Judiciária', regex=True\n",
    ")\n",
    "\n",
    "# Prefixo\n",
    "df['juiz_diretor'] = (\n",
    "    df['juiz_diretor']\n",
    "    .replace('Juiza diretora: ', '', regex=True)\n",
    "    .replace('Juiz diretor: ', '', regex=True)\n",
    ")\n",
    "df['email'] = df['email'].apply(lambda x: find_text_between_parenthesis(x))\n",
    "\n",
    "# Results\n",
    "df.info()\n",
    "df.head()"
   ]
  },
  {
   "cell_type": "code",
   "execution_count": null,
   "id": "88f7e422",
   "metadata": {},
   "outputs": [],
   "source": [
    "list(df.columns)"
   ]
  },
  {
   "cell_type": "code",
   "execution_count": null,
   "id": "a7653c5d",
   "metadata": {},
   "outputs": [],
   "source": [
    "df = df[\n",
    "    [\n",
    "        # RAJ\n",
    "        'raj_id',\n",
    "        'raj_nome',\n",
    "        'raj_sigla',\n",
    "        'raj_regiao',\n",
    "        'juiz_diretor',\n",
    "        'email',\n",
    "        # CJ\n",
    "        'cj_id',\n",
    "        'cj_nome',\n",
    "        'cj_sigla',\n",
    "        # Comarca\n",
    "        'comarca',\n",
    "    ]\n",
    "]\n",
    "\n",
    "# Results\n",
    "df.info()\n",
    "df.head()"
   ]
  },
  {
   "attachments": {},
   "cell_type": "markdown",
   "id": "94a11717",
   "metadata": {},
   "source": [
    "<br>\n",
    "\n",
    "## Results\n"
   ]
  },
  {
   "attachments": {},
   "cell_type": "markdown",
   "id": "70861edb",
   "metadata": {},
   "source": [
    "<br>\n",
    "\n",
    "### RAJs\n"
   ]
  },
  {
   "cell_type": "code",
   "execution_count": null,
   "id": "41abf975",
   "metadata": {},
   "outputs": [],
   "source": [
    "df_raj = df[\n",
    "    [\n",
    "        # RAJ\n",
    "        'raj_id',\n",
    "        'raj_nome',\n",
    "        'raj_sigla',\n",
    "        'raj_regiao',\n",
    "        'juiz_diretor',\n",
    "        'email',\n",
    "    ]\n",
    "]\n",
    "\n",
    "df_raj = df_raj.drop_duplicates()\n",
    "df_raj = df_raj.sort_values(by='raj_id')\n",
    "df_raj = df_raj.reset_index(drop=True)\n",
    "display(df_raj.head())\n",
    "\n",
    "df_raj.to_csv(\n",
    "    output_path_tab / 'Dim_RAJs.csv',\n",
    "    index=False,\n",
    ")\n",
    "\n",
    "df_raj.to_excel(\n",
    "    output_path_tab / 'Dim_RAJs.xlsx',\n",
    "    index=False,\n",
    "    sheet_name='Dim_RAJs',\n",
    ")"
   ]
  },
  {
   "attachments": {},
   "cell_type": "markdown",
   "id": "9218d132",
   "metadata": {},
   "source": [
    "<br>\n",
    "\n",
    "### CJs\n"
   ]
  },
  {
   "cell_type": "code",
   "execution_count": null,
   "id": "c2b8ae6f",
   "metadata": {},
   "outputs": [],
   "source": [
    "df_cjs = df[\n",
    "    [\n",
    "        # CJ\n",
    "        'cj_id',\n",
    "        'cj_nome',\n",
    "        'cj_sigla',\n",
    "        'raj_id',\n",
    "    ]\n",
    "]\n",
    "\n",
    "df_cjs.loc[df_cjs['cj_id'] == '', 'cj_id'] = '0'\n",
    "df_cjs['cj_id'] = df_cjs['cj_id'].copy()\n",
    "df_cjs['cj_id'] = df_cjs['cj_id'].astype('int')\n",
    "df_cjs = df_cjs.drop_duplicates()\n",
    "df_cjs = df_cjs.sort_values(by='cj_id')\n",
    "df_cjs = df_cjs.reset_index(drop=True)\n",
    "display(df_cjs.head())\n",
    "\n",
    "df_cjs.to_csv(\n",
    "    output_path_tab / 'Dim_CircunscricaoJudiciaria.csv',\n",
    "    index=False,\n",
    ")\n",
    "\n",
    "df_cjs.to_excel(\n",
    "    output_path_tab / 'Dim_CircunscricaoJudiciaria.xlsx',\n",
    "    sheet_name='Dim_CircunscricaoJudiciaria',\n",
    "    index=False,\n",
    ")"
   ]
  },
  {
   "attachments": {},
   "cell_type": "markdown",
   "id": "bb3bec87",
   "metadata": {},
   "source": [
    "<br>\n",
    "\n",
    "### Comarcas\n"
   ]
  },
  {
   "cell_type": "code",
   "execution_count": null,
   "id": "05510a93",
   "metadata": {},
   "outputs": [],
   "source": [
    "df_comarca = df[\n",
    "    [\n",
    "        # Comarca\n",
    "        'comarca',\n",
    "        'cj_id',\n",
    "    ]\n",
    "]\n",
    "\n",
    "df_comarca.loc[df_comarca['cj_id'] == '', 'cj_id'] = '0'\n",
    "df_comarca['cj_id'] = df_comarca['cj_id'].copy()\n",
    "df_comarca['cj_id'] = df_comarca['cj_id'].astype('int')\n",
    "df_comarca = df_comarca.drop_duplicates()\n",
    "\n",
    "df_comarca = df_comarca.rename(\n",
    "    {\n",
    "        'comarca': 'comarca_nome_tjsp',\n",
    "    },\n",
    "    axis=1,\n",
    ")\n",
    "\n",
    "df_comarca = df_comarca.sort_values(by='comarca_nome_tjsp')\n",
    "df_comarca = df_comarca.iloc[\n",
    "    df_comarca['comarca_nome_tjsp'].str.normalize('NFKD').argsort()\n",
    "]\n",
    "df_comarca = df_comarca.reset_index(drop=True)\n",
    "display(df_comarca.head())\n",
    "\n",
    "df_comarca.to_csv(\n",
    "    output_path_tab / 'Dim_Comarcas_CJs.csv',\n",
    "    index=False,\n",
    ")\n",
    "\n",
    "df_comarca.to_excel(\n",
    "    output_path_tab / 'Dim_Comarcas_CJs.xlsx',\n",
    "    index=False,\n",
    "    sheet_name='Dim_Comarcas_CJs',\n",
    ")"
   ]
  },
  {
   "cell_type": "code",
   "execution_count": null,
   "id": "f89575c0",
   "metadata": {},
   "outputs": [],
   "source": [
    "comarcas = df['comarca']\n",
    "\n",
    "print(f'São {len(comarcas)} comarcas')\n",
    "print(f'São {len(set(comarcas))} comarcas')"
   ]
  },
  {
   "cell_type": "code",
   "execution_count": null,
   "id": "ed850899",
   "metadata": {},
   "outputs": [],
   "source": [
    "driver.quit()"
   ]
  },
  {
   "cell_type": "code",
   "execution_count": null,
   "id": "08e07558",
   "metadata": {},
   "outputs": [],
   "source": []
  }
 ],
 "metadata": {
  "kernelspec": {
   "display_name": "Python 3.10.6 ('pablocarreira-lastest')",
   "language": "python",
   "name": "python3"
  },
  "language_info": {
   "codemirror_mode": {
    "name": "ipython",
    "version": 3
   },
   "file_extension": ".py",
   "mimetype": "text/x-python",
   "name": "python",
   "nbconvert_exporter": "python",
   "pygments_lexer": "ipython3",
   "version": "3.10.13"
  },
  "vscode": {
   "interpreter": {
    "hash": "4fe01b1e548a48625e93ad3ec9d7217eaa82c8c5a1273b2b8580787b5d806f08"
   }
  }
 },
 "nbformat": 4,
 "nbformat_minor": 5
}
