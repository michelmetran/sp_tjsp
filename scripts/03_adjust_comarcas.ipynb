{
 "cells": [
  {
   "attachments": {},
   "cell_type": "markdown",
   "metadata": {},
   "source": [
    "<br>\n",
    "\n",
    "# Introdução\n",
    "\n",
    "Juntar Código da CJ na tabela"
   ]
  },
  {
   "cell_type": "code",
   "execution_count": null,
   "metadata": {},
   "outputs": [],
   "source": [
    "import html\n",
    "import time\n",
    "\n",
    "import pandas as pd\n",
    "import requests\n",
    "from bs4 import BeautifulSoup\n",
    "from more_itertools import one\n",
    "from open_geodata import geo\n",
    "from selenium import webdriver\n",
    "from selenium.webdriver.common.action_chains import ActionChains\n",
    "from selenium.webdriver.common.by import By\n",
    "from selenium.webdriver.common.keys import Keys\n",
    "from selenium.webdriver.firefox.options import Options as FirefoxOptions\n",
    "from selenium.webdriver.firefox.service import Service as FirefoxService\n",
    "from selenium.webdriver.support import expected_conditions as EC\n",
    "from selenium.webdriver.support.ui import Select\n",
    "from selenium.webdriver.support.wait import WebDriverWait\n",
    "from tjsp_divadmin.my_driver import Driver\n",
    "from tjsp_divadmin.my_functions import (\n",
    "    find_text_between_parenthesis,\n",
    "    keep_numbers,\n",
    ")\n",
    "from tjsp_divadmin.my_paths import (\n",
    "    adds_path,\n",
    "    driver_path,\n",
    "    logs_path,\n",
    "    output_path_tab,\n",
    ")\n",
    "from traquitanas.scrapping import adds, gecko"
   ]
  },
  {
   "cell_type": "code",
   "execution_count": null,
   "metadata": {},
   "outputs": [],
   "source": [
    "df_script1 = pd.read_csv(\n",
    "    output_path_tab / 'Dim_Comarcas_CJs.csv'\n",
    ")\n",
    "\n",
    "df_script1.info()\n",
    "df_script1.head()\n"
   ]
  },
  {
   "cell_type": "code",
   "execution_count": null,
   "metadata": {},
   "outputs": [],
   "source": [
    "df_script2 = pd.read_csv(\n",
    "    output_path_tab / 'Dim_Comarcas.csv'\n",
    ")\n",
    "\n",
    "df_script2.info()\n",
    "df_script2.head()"
   ]
  },
  {
   "attachments": {},
   "cell_type": "markdown",
   "metadata": {},
   "source": [
    "<br>\n",
    "\n",
    "Tento unir as tabelas para encontrar os erros!"
   ]
  },
  {
   "cell_type": "code",
   "execution_count": null,
   "metadata": {},
   "outputs": [],
   "source": [
    "df_merged = pd.merge(\n",
    "    left=df_script1,\n",
    "    right=df_script2,\n",
    "    left_on='comarca_nome_tjsp',\n",
    "    right_on='comarca_nome_tjsp',\n",
    "    how='left',    \n",
    ")\n",
    "df_merged"
   ]
  },
  {
   "cell_type": "code",
   "execution_count": null,
   "metadata": {},
   "outputs": [],
   "source": [
    "# Coisas Erradas\n",
    "df_merged[df_merged['comarca_nome'].isnull()]"
   ]
  },
  {
   "attachments": {},
   "cell_type": "markdown",
   "metadata": {},
   "source": [
    "<br>\n",
    "\n",
    "Com a função abaixo eu atualizo os valores redigitos na tabela de maneira incorreta"
   ]
  },
  {
   "cell_type": "code",
   "execution_count": null,
   "metadata": {},
   "outputs": [],
   "source": [
    "df_script1 = df_script1.replace(\n",
    "    {        \n",
    "        'Carapicuiba': 'Carapicuíba',\n",
    "        'Cerqueira Cesar': 'Cerqueira César',\n",
    "        'Estrela D’Oeste': 'Estrela dOeste',\n",
    "        'Palmeira D’Oeste': \"Palmeira d'Oeste\",\n",
    "        'Rio Grande de Serra': 'Rio Grande da Serra',\n",
    "        'Santa Bárbara D’Oeste': \"Santa Bárbara d'Oeste\",\n",
    "        'Santa Rosa do Viterbo': 'Santa Rosa de Viterbo',\n",
    "        'Santana do Parnaíba': 'Santana de Parnaíba',\n",
    "        'São Luis do Paraitinga': 'São Luiz do Paraitinga',\n",
    "        #'Vila Mimosa': '' # Aqui estava o erro!!!!\n",
    "    }\n",
    ")"
   ]
  },
  {
   "attachments": {},
   "cell_type": "markdown",
   "metadata": {},
   "source": [
    "<br>\n",
    "\n",
    "Rodo novamente, após correções"
   ]
  },
  {
   "cell_type": "code",
   "execution_count": null,
   "metadata": {},
   "outputs": [],
   "source": [
    "df_merged = pd.merge(\n",
    "    left=df_script1,\n",
    "    right=df_script2,\n",
    "    left_on='comarca_nome_tjsp',\n",
    "    right_on='comarca_nome_tjsp',\n",
    "    how='left',    \n",
    ")\n",
    "df_merged"
   ]
  },
  {
   "attachments": {},
   "cell_type": "markdown",
   "metadata": {},
   "source": [
    "<br>\n",
    "\n",
    "Com essa função abaixo que fico procurando os erros!"
   ]
  },
  {
   "cell_type": "code",
   "execution_count": null,
   "metadata": {},
   "outputs": [],
   "source": [
    "df_script2[df_script2['comarca_nome_tjsp'].str.startswith('Vila Mimosa')]"
   ]
  },
  {
   "attachments": {},
   "cell_type": "markdown",
   "metadata": {},
   "source": [
    "<br>\n",
    "\n",
    "## Ajuste da Tabela"
   ]
  },
  {
   "cell_type": "code",
   "execution_count": null,
   "metadata": {},
   "outputs": [],
   "source": [
    "# Coisas Certas\n",
    "df_comarca = df_merged[~df_merged['comarca_nome'].isnull()]\n",
    "df_comarca = df_comarca[['comarca_id', 'comarca_nome', 'comarca_nome_tjsp', 'cj_id']]\n",
    "df_comarca['comarca_id'] = df_comarca['comarca_id'].astype('int')\n",
    "df_comarca = df_comarca.iloc[df_comarca['comarca_nome'].str.normalize('NFKD').argsort()]\n",
    "df_comarca= df_comarca.reset_index(drop=True)\n",
    "\n",
    "df_comarca.info()\n",
    "df_comarca.head()"
   ]
  },
  {
   "cell_type": "code",
   "execution_count": null,
   "metadata": {},
   "outputs": [],
   "source": [
    "# Salva\n",
    "df_comarca.to_csv(\n",
    "    output_path_tab / 'Dim_Comarcas.csv',\n",
    "    index=False,\n",
    ")\n",
    "df_comarca.to_excel(\n",
    "    output_path_tab / 'Dim_Comarcas.xlsx',\n",
    "    sheet_name='Comarcas',\n",
    "    index=False,\n",
    ")\n"
   ]
  },
  {
   "attachments": {},
   "cell_type": "markdown",
   "metadata": {},
   "source": [
    "<br>\n",
    "\n",
    "## Deleta Arquivos Errados\n",
    "\n",
    "Gerados pelo script 01, que raspou o \"Quem Somos\""
   ]
  },
  {
   "cell_type": "code",
   "execution_count": null,
   "metadata": {},
   "outputs": [],
   "source": [
    "for file in list(output_path_tab.glob('Dim_Comarcas_CJs*')):\n",
    "    print(file)\n",
    "    file.unlink()"
   ]
  },
  {
   "cell_type": "code",
   "execution_count": null,
   "metadata": {},
   "outputs": [],
   "source": []
  }
 ],
 "metadata": {
  "kernelspec": {
   "display_name": "pablocarreira-lastest",
   "language": "python",
   "name": "python3"
  },
  "language_info": {
   "codemirror_mode": {
    "name": "ipython",
    "version": 3
   },
   "file_extension": ".py",
   "mimetype": "text/x-python",
   "name": "python",
   "nbconvert_exporter": "python",
   "pygments_lexer": "ipython3",
   "version": "3.10.8"
  }
 },
 "nbformat": 4,
 "nbformat_minor": 2
}
