{
 "cells": [
  {
   "cell_type": "markdown",
   "id": "eb4059ce",
   "metadata": {},
   "source": [
    "<br>\n",
    "\n",
    "# Introdução\n",
    "\n",
    "- https://www.tjsp.jus.br\n",
    "- https://www.tjsp.jus.br/QuemSomos/QuemSomos/RegioesAdministrativasJudiciarias\n",
    "- https://www.tjsp.jus.br/ListaTelefonica\n"
   ]
  },
  {
   "cell_type": "code",
   "execution_count": null,
   "id": "42768fb2",
   "metadata": {},
   "outputs": [],
   "source": [
    "#!pip3 install webdriver_manager\n",
    "#!pip3 install traquitanas\n"
   ]
  },
  {
   "cell_type": "code",
   "execution_count": null,
   "id": "8d807595",
   "metadata": {},
   "outputs": [],
   "source": [
    "import pandas as pd\n",
    "from driver import driver\n",
    "from paths import *\n",
    "from selenium.webdriver.common.by import By"
   ]
  },
  {
   "cell_type": "code",
   "execution_count": null,
   "id": "93d1a769",
   "metadata": {},
   "outputs": [],
   "source": [
    "from traquitanas import net\n",
    "\n",
    "net"
   ]
  },
  {
   "cell_type": "code",
   "execution_count": null,
   "id": "d1eb9854",
   "metadata": {},
   "outputs": [],
   "source": [
    "URL = 'https://www.tjsp.jus.br/QuemSomos/QuemSomos/RegioesAdministrativasJudiciarias'\n",
    "driver.get(URL)\n"
   ]
  },
  {
   "cell_type": "code",
   "execution_count": null,
   "id": "996bdf6a",
   "metadata": {},
   "outputs": [],
   "source": [
    "driver.window_handles\n"
   ]
  },
  {
   "cell_type": "code",
   "execution_count": null,
   "id": "2608cdb0",
   "metadata": {},
   "outputs": [],
   "source": [
    "driver.switch_to.window(driver.window_handles[0])\n"
   ]
  },
  {
   "cell_type": "code",
   "execution_count": null,
   "id": "c6f72694",
   "metadata": {},
   "outputs": [],
   "source": [
    "# Localiza o Termo \"Juízes Diretores\"\n",
    "driver.find_element(\n",
    "    By.XPATH, '//*[text()=\"Juízes Diretores\"]').get_attribute('innerHTML')\n",
    "\n",
    "# Localiza <div> irmã dos \"Juízes Diretores\"\n",
    "juiz_xpath = driver.find_element(\n",
    "    By.XPATH, '//*[text()=\"Juízes Diretores\"]//..')\n",
    "rajs_xpath = juiz_xpath.find_element(By.XPATH, './following-sibling::div')\n"
   ]
  },
  {
   "cell_type": "code",
   "execution_count": null,
   "id": "24c36b28",
   "metadata": {},
   "outputs": [],
   "source": [
    "rajs_xpaths = rajs_xpath.find_elements(\n",
    "    By.XPATH, './/*[contains(@style, \"background\")]')\n",
    "rajs_xpaths\n"
   ]
  },
  {
   "cell_type": "code",
   "execution_count": null,
   "id": "419a13b1",
   "metadata": {},
   "outputs": [],
   "source": [
    "df = pd.DataFrame()\n",
    "\n",
    "for i in rajs_xpaths:\n",
    "    # Xpath\n",
    "    raj_xpath = i.find_element(By.XPATH, './/p[@style=\"font-weight: bold\"]')\n",
    "    diretor_xpath = raj_xpath.find_element(By.XPATH, \"./following-sibling::p\")\n",
    "    email_xpath = diretor_xpath.find_element(\n",
    "        By.XPATH, \"./following-sibling::p\")\n",
    "\n",
    "    # Print\n",
    "    # print(raj_xpath.text)\n",
    "    # print(diretor_xpath.text)\n",
    "    # print(email_xpath.text)\n",
    "    dict_circuncricao = None\n",
    "    dict_circuncricao = {\n",
    "        'raj': raj_xpath.text,\n",
    "        'juiz_diretor': diretor_xpath.text,\n",
    "        'email': email_xpath.text,        \n",
    "    }    \n",
    "\n",
    "    # Para cada 'ul' em todas as 'uls'\n",
    "    for ul in i.find_elements(By.XPATH, \"./following-sibling::ul\"):\n",
    "\n",
    "        # Procura todas as 'li' em cada 'ul\n",
    "        for li in ul.find_elements(By.XPATH, './/li[@class=\"list-group-item\"]'):\n",
    "            # Atualiza Dicionário\n",
    "            dict_circuncricao.update({'comarca_cirscunscricao': li.text})\n",
    "\n",
    "            # Convert para DataFrame\n",
    "            df_dict = pd.DataFrame([dict_circuncricao])\n",
    "\n",
    "            # Concatena\n",
    "            df = pd.concat([df, df_dict], ignore_index=True)\n",
    "\n",
    "# Results\n",
    "df"
   ]
  },
  {
   "cell_type": "code",
   "execution_count": null,
   "id": "944ff330",
   "metadata": {},
   "outputs": [],
   "source": [
    "df['raj'] = df['raj'].str.replace('–', '-')\n",
    "df[['raj_id','raj_nome']] = df['raj'].str.split(' - ',expand=True)\n",
    "df[['comarca','cirscunscricao_judiciaria']] = df['comarca_cirscunscricao'].str.split(' - ',expand=True)\n",
    "df.head()"
   ]
  },
  {
   "cell_type": "code",
   "execution_count": null,
   "id": "88f7e422",
   "metadata": {},
   "outputs": [],
   "source": [
    "list(df.columns)"
   ]
  },
  {
   "cell_type": "code",
   "execution_count": null,
   "id": "a7653c5d",
   "metadata": {},
   "outputs": [],
   "source": [
    "df = df[[\n",
    "    'raj',\n",
    "    'raj_id',\n",
    "    'raj_nome',\n",
    "\n",
    "    'juiz_diretor',\n",
    "    'email',\n",
    "    'comarca_cirscunscricao',\n",
    "    'comarca',\n",
    "    'cirscunscricao_judiciaria'\n",
    "    ]]\n",
    "\n",
    "df.to_csv(\n",
    "    output_path / 'raj.csv',\n",
    "    index=False,\n",
    ")"
   ]
  },
  {
   "cell_type": "code",
   "execution_count": null,
   "id": "f89575c0",
   "metadata": {},
   "outputs": [],
   "source": []
  }
 ],
 "metadata": {
  "kernelspec": {
   "display_name": "Python 3.10.6 ('pablocarreira-lastest')",
   "language": "python",
   "name": "python3"
  },
  "language_info": {
   "codemirror_mode": {
    "name": "ipython",
    "version": 3
   },
   "file_extension": ".py",
   "mimetype": "text/x-python",
   "name": "python",
   "nbconvert_exporter": "python",
   "pygments_lexer": "ipython3",
   "version": "3.10.6"
  },
  "vscode": {
   "interpreter": {
    "hash": "4fe01b1e548a48625e93ad3ec9d7217eaa82c8c5a1273b2b8580787b5d806f08"
   }
  }
 },
 "nbformat": 4,
 "nbformat_minor": 5
}
