{
 "cells": [
  {
   "attachments": {},
   "cell_type": "markdown",
   "metadata": {},
   "source": [
    "<br>\n",
    "\n",
    "# Municípios e Comarcas\n",
    "\n",
    "Por meio do _site_ [ListaTelefonica](https://www.tjsp.jus.br/ListaTelefonica) foi possível relevar as APIs que operam e fazer diversas pesquisas.\n",
    "\n",
    "<br>\n",
    "\n",
    "Michel Metran\\\n",
    "Data: 18.06.2024\\\n",
    "Atualizado em: 18.06.2024\n"
   ]
  },
  {
   "cell_type": "code",
   "execution_count": null,
   "metadata": {},
   "outputs": [],
   "source": [
    "import concurrent\n",
    "\n",
    "import pandas as pd\n",
    "import requests\n",
    "from bs4 import BeautifulSoup\n",
    "from dotenv import load_dotenv\n",
    "from more_itertools import one\n",
    "\n",
    "from sp_tjsp_divadmin.my_functions import strip_accents, adjust_columns\n",
    "from sp_tjsp_divadmin.my_paths import output_path_tab"
   ]
  },
  {
   "cell_type": "code",
   "execution_count": null,
   "metadata": {},
   "outputs": [],
   "source": [
    "# import os\n",
    "# import pprint\n",
    "# import re\n",
    "# from typing import Literal\n",
    "\n",
    "# import numpy as np\n",
    "# from open_geodata import geo\n",
    "# from requests_ip_rotator import ApiGateway\n",
    "\n",
    "# from sp_tjsp_divadmin.my_functions import (\n",
    "#     find_text_between_parenthesis,\n",
    "#     keep_numbers,\n",
    "#     remove_accents,\n",
    "# )"
   ]
  },
  {
   "attachments": {},
   "cell_type": "markdown",
   "metadata": {},
   "source": [
    "<br>\n",
    "\n",
    "---\n",
    "\n",
    "## Lista de Unidades\n",
    "\n",
    "Uma vez com a lista de todos os municípios e seus respectivos códigos, foi possível obter as informações dos fóruns por meio de outro método POST.\n"
   ]
  },
  {
   "cell_type": "code",
   "execution_count": null,
   "metadata": {},
   "outputs": [],
   "source": [
    "def get_lista_unidades_tjsp(cod_municipio: int):\n",
    "    \"\"\"\n",
    "    Pega a lista de unidades (Fóruns) de um determinado Município,\n",
    "    a partir do Código do Município do TJSP\n",
    "    :param cod_municipio: _description_\n",
    "    :type cod_municipio: _type_\n",
    "    :return: _description_\n",
    "    \"\"\"\n",
    "    # Requests\n",
    "    r: requests.Response = requests.post(\n",
    "        'https://www.tjsp.jus.br/ListaTelefonica/RetornarResultadoBusca',\n",
    "        json={'parmsEntrada': cod_municipio, 'codigoTipoBusca': 1},\n",
    "        timeout=60,\n",
    "    )\n",
    "\n",
    "    # BS4\n",
    "    soup = BeautifulSoup(r.text, 'html.parser')\n",
    "    text_comarca = soup.find_all('h4')\n",
    "    if text_comarca == []:\n",
    "        raise Exception('Erro')\n",
    "\n",
    "    else:\n",
    "        text_comarca = one(text_comarca)\n",
    "        text_comarca = text_comarca.text\n",
    "\n",
    "        #\n",
    "        comarca = text_comarca.split(' - ')[0]\n",
    "        raj = text_comarca.strip().split(' - ')[-1]\n",
    "        # print(raj)\n",
    "\n",
    "        # comarca = comarca.split('está jurisdicionado à Comarca ')\n",
    "        comarca = comarca.replace('Município ', '')\n",
    "        comarca = comarca.replace('está jurisdicionado à Comarca', ' | ')\n",
    "        comarca = comarca.replace('da Comarca', ' | ')\n",
    "        # print(comarca)\n",
    "\n",
    "        mun = comarca.strip().split(' | ')[0]\n",
    "        com = comarca.strip().split(' | ')[-1]\n",
    "\n",
    "        if mun.strip() == com.strip():\n",
    "            comarca_sede = 1\n",
    "        else:\n",
    "            comarca_sede = 0\n",
    "\n",
    "        # print(text_comarca)\n",
    "        # print(text_comcarca.split('jurisdicionado à comarca '))\n",
    "\n",
    "    lista_unidades = [x.text for x in soup.find_all('span')]\n",
    "\n",
    "    return pd.DataFrame(\n",
    "        {\n",
    "            'id_municipio_tjsp': cod_municipio,\n",
    "            'raj': raj.strip(),\n",
    "            'municipio_tjsp': mun.strip(),\n",
    "            'comarca_tjsp': com.strip(),\n",
    "            'comarca_sede': comarca_sede,\n",
    "            'unidades': lista_unidades,\n",
    "        }\n",
    "    )"
   ]
  },
  {
   "cell_type": "code",
   "execution_count": null,
   "metadata": {},
   "outputs": [],
   "source": [
    "# Apenas Exemplo da Função!\n",
    "id_municipio = 6504\n",
    "results = get_lista_unidades_tjsp(cod_municipio=id_municipio)\n",
    "display(results)"
   ]
  },
  {
   "attachments": {},
   "cell_type": "markdown",
   "metadata": {},
   "source": [
    "<br>\n",
    "\n",
    "Uma vez com a função que obter os dados das Unidades e, PRINCIPALMENTE, das comarcas!\n",
    "Foi possível iterar pelos 645 municípios para pegar as informações!\n",
    "\n",
    "> IMPORTANTE: FUNÇÃO LEVA UNS 4 MINUTOS PARA RODAR!\n"
   ]
  },
  {
   "cell_type": "code",
   "execution_count": null,
   "metadata": {},
   "outputs": [],
   "source": [
    "# Read Data\n",
    "df_tjsp_mun = pd.read_csv(output_path_tab / 'Municipios.csv')\n",
    "\n",
    "# Lista Municípios\n",
    "list_cod_tjsp = list(df_tjsp_mun['id_municipio_tjsp'])\n",
    "list_cod_tjsp[:5]\n",
    "\n",
    "# Results\n",
    "df_tjsp_mun.info()\n",
    "df_tjsp_mun.head()"
   ]
  },
  {
   "cell_type": "code",
   "execution_count": null,
   "metadata": {},
   "outputs": [],
   "source": [
    "MAX_THREADS = 5\n",
    "\n",
    "with concurrent.futures.ThreadPoolExecutor(max_workers=MAX_THREADS) as executor:\n",
    "    temp = executor.map(get_lista_unidades_tjsp, list_cod_tjsp)\n",
    "    df_com = pd.concat(list(temp), ignore_index=True)\n",
    "\n",
    "# Results\n",
    "df_com.info()\n",
    "df_com.head()"
   ]
  },
  {
   "cell_type": "markdown",
   "metadata": {},
   "source": [
    "Uma vez que temos a tabela de municípios e a tabela de comarcas/unidades, tratamos e juntamos\n"
   ]
  },
  {
   "cell_type": "code",
   "execution_count": null,
   "metadata": {},
   "outputs": [],
   "source": [
    "# Display\n",
    "display(df_tjsp_mun.head(2))\n",
    "display(df_com.head(2))"
   ]
  },
  {
   "cell_type": "code",
   "execution_count": null,
   "metadata": {},
   "outputs": [],
   "source": [
    "# Merge\n",
    "df_unidades = pd.merge(\n",
    "    left=df_tjsp_mun,\n",
    "    right=df_com,\n",
    "    left_on='id_municipio_tjsp',\n",
    "    right_on='id_municipio_tjsp',\n",
    "    how='inner',\n",
    "    suffixes=['', '_copy'],\n",
    ")\n",
    "\n",
    "# Results\n",
    "df_unidades.info()\n",
    "df_unidades.head()"
   ]
  },
  {
   "cell_type": "code",
   "execution_count": null,
   "metadata": {},
   "outputs": [],
   "source": [
    "df_unidades = df_unidades.drop(\n",
    "    labels=['municipio_tjsp_copy'],\n",
    "    axis='columns',\n",
    "    errors='ignore',\n",
    ")\n",
    "\n",
    "# Results\n",
    "df_unidades.info()\n",
    "df_unidades.head()"
   ]
  },
  {
   "cell_type": "code",
   "execution_count": null,
   "metadata": {},
   "outputs": [],
   "source": [
    "filename = 'Unidades, Municípios e Comarcas'\n",
    "\n",
    "# Salva\n",
    "df_unidades.to_csv(\n",
    "    output_path_tab / f'{filename}.csv',\n",
    "    index=False,\n",
    ")\n",
    "df_unidades.to_excel(\n",
    "    output_path_tab / f'{filename}.xlsx',\n",
    "    sheet_name=f'{filename}',\n",
    "    index=False,\n",
    ")"
   ]
  },
  {
   "attachments": {},
   "cell_type": "markdown",
   "metadata": {},
   "source": [
    "<br>\n",
    "\n",
    "---\n",
    "\n",
    "## Análises das Comarcas\n"
   ]
  },
  {
   "attachments": {},
   "cell_type": "markdown",
   "metadata": {},
   "source": [
    "Inicialmente conferi se o nome dos Municípios definido pelo TJSP correspondem ao nome das Comarcas que levantei!\n",
    "\n",
    "Felizmente, pelo que analisei, a resposta é sim!\n"
   ]
  },
  {
   "cell_type": "code",
   "execution_count": null,
   "metadata": {},
   "outputs": [],
   "source": [
    "# Read Data\n",
    "df_tjsp = pd.read_csv(output_path_tab / 'Unidades, Municípios e Comarcas.csv')\n",
    "\n",
    "# Aplica strip em todo o dataframe\n",
    "df_tjsp = df_tjsp.map(lambda x: x.strip() if isinstance(x, str) else x)\n",
    "\n",
    "# Results\n",
    "df_tjsp.info()\n",
    "df_tjsp.head()"
   ]
  },
  {
   "cell_type": "code",
   "execution_count": null,
   "metadata": {},
   "outputs": [],
   "source": [
    "# Filtra Colunas\n",
    "df_tjsp = df_tjsp.drop(\n",
    "    labels=[\n",
    "        'unidades',\n",
    "        'raj',\n",
    "        #'id_municipio_tjsp'\n",
    "    ],\n",
    "    axis='columns',\n",
    "    errors='ignore',\n",
    ")\n",
    "\n",
    "df_tjsp = df_tjsp.drop_duplicates()\n",
    "df_tjsp_mun = df_tjsp.copy()\n",
    "\n",
    "# Results\n",
    "df_tjsp_mun.info()\n",
    "df_tjsp_mun.head()"
   ]
  },
  {
   "attachments": {},
   "cell_type": "markdown",
   "metadata": {},
   "source": [
    "<br>\n",
    "\n",
    "Crio uma tabela temporária, apenas para conseguir, posteriormente, trazer os códigos do IBGE para a tabela das comarcas\n"
   ]
  },
  {
   "cell_type": "code",
   "execution_count": null,
   "metadata": {},
   "outputs": [],
   "source": [
    "# Comarca\n",
    "df_tjsp_com = df_tjsp[df_tjsp['comarca_sede'] == 1]\n",
    "\n",
    "# Filtra Colunas\n",
    "df_tjsp_com = df_tjsp_com.drop(\n",
    "    labels=[\n",
    "        #'municipio_corrigido',\n",
    "        #'comarca_sede',\n",
    "        #'municipio_tjsp'\n",
    "        'eee'\n",
    "    ],\n",
    "    axis='columns',\n",
    "    errors='ignore',\n",
    ")\n",
    "\n",
    "# Results\n",
    "df_tjsp_com.info()\n",
    "df_tjsp_com.head()"
   ]
  },
  {
   "cell_type": "code",
   "execution_count": null,
   "metadata": {},
   "outputs": [],
   "source": [
    "# Filtra Colunas\n",
    "df_tjsp_com = df_tjsp_com.drop(\n",
    "    labels=['comarca_sede'],\n",
    "    axis='columns',\n",
    "    errors='ignore',\n",
    ")\n",
    "\n",
    "#\n",
    "df_tjsp_com = df_tjsp_com.drop_duplicates()\n",
    "\n",
    "\n",
    "# Renomeia\n",
    "df_tjsp_com = df_tjsp_com.rename(\n",
    "    mapper={\n",
    "        'municipio_corrigido': 'comarca_corrigido',\n",
    "        'id_municipio': 'id_comarca',\n",
    "    },\n",
    "    axis=1,\n",
    ")\n",
    "\n",
    "# Deleta\n",
    "df_tjsp_com = df_tjsp_com.drop(\n",
    "    labels=['municipio_tjsp'],\n",
    "    axis='columns',\n",
    "    errors='ignore',\n",
    ")\n",
    "\n",
    "# Bata Bater\n",
    "df_tjsp_com = adjust_columns(df=df_tjsp_com, column_ajust='comarca_tjsp')"
   ]
  },
  {
   "cell_type": "code",
   "execution_count": null,
   "metadata": {},
   "outputs": [],
   "source": [
    "# Results\n",
    "df_tjsp_com.info()\n",
    "df_tjsp_com.head()"
   ]
  },
  {
   "cell_type": "code",
   "execution_count": null,
   "metadata": {},
   "outputs": [],
   "source": [
    "df_script1 = pd.read_csv(output_path_tab / 'Comarcas e CJs.csv')\n",
    "\n",
    "# Aplica strip em todo o dataframe\n",
    "df_script1 = df_script1.map(lambda x: x.strip() if isinstance(x, str) else x)\n",
    "\n",
    "# Ajusta Coluna\n",
    "df_script1 = adjust_columns(df=df_script1, column_ajust='comarca_tjsp')"
   ]
  },
  {
   "cell_type": "markdown",
   "metadata": {},
   "source": [
    "Usando `left` eu dropo a Vila Mimosa!\n"
   ]
  },
  {
   "cell_type": "code",
   "execution_count": null,
   "metadata": {},
   "outputs": [],
   "source": [
    "df_comarca = pd.merge(\n",
    "    left=df_tjsp_com,\n",
    "    right=df_script1,\n",
    "    left_on='comarca_tjsp_temp',\n",
    "    right_on='comarca_tjsp_temp',\n",
    "    how='left',\n",
    "    suffixes=['', '_copy'],\n",
    ")\n",
    "\n",
    "# Deleta\n",
    "df_comarca = df_comarca.drop(\n",
    "    labels=['comarca_tjsp_copy'],\n",
    "    axis='columns',\n",
    "    errors='ignore',\n",
    ")\n",
    "\n",
    "df_comarca"
   ]
  },
  {
   "cell_type": "code",
   "execution_count": null,
   "metadata": {},
   "outputs": [],
   "source": [
    "df_comarca = df_comarca.iloc[\n",
    "    df_comarca['comarca_corrigido'].str.normalize('NFKD').argsort()\n",
    "]\n",
    "df_comarca = df_comarca.reset_index(drop=True)\n",
    "df_comarca.head()"
   ]
  },
  {
   "cell_type": "code",
   "execution_count": null,
   "metadata": {},
   "outputs": [],
   "source": [
    "df_comarca[df_comarca['id_cj'].isna()]"
   ]
  },
  {
   "cell_type": "code",
   "execution_count": null,
   "metadata": {},
   "outputs": [],
   "source": [
    "# df_comarca[df_comarca['id_comarca'].isna()]"
   ]
  },
  {
   "cell_type": "code",
   "execution_count": null,
   "metadata": {},
   "outputs": [],
   "source": [
    "df_comarca = df_comarca.drop(\n",
    "    labels=['comarca_tjsp_temp', 'id_municipio_tjsp'], axis='columns'\n",
    ")\n",
    "\n",
    "# Results\n",
    "df_comarca.info()\n",
    "df_comarca.head()"
   ]
  },
  {
   "cell_type": "code",
   "execution_count": null,
   "metadata": {},
   "outputs": [],
   "source": [
    "filename = 'Comarcas'\n",
    "\n",
    "# Salva\n",
    "df_comarca.to_csv(\n",
    "    output_path_tab / f'{filename}.csv',\n",
    "    index=False,\n",
    ")\n",
    "df_comarca.to_excel(\n",
    "    output_path_tab / f'{filename}.xlsx',\n",
    "    sheet_name=f'{filename}',\n",
    "    index=False,\n",
    ")"
   ]
  },
  {
   "cell_type": "code",
   "execution_count": null,
   "metadata": {},
   "outputs": [],
   "source": [
    "for file in list(output_path_tab.glob('Comarcas e CJs*')):\n",
    "    print(file)\n",
    "    file.unlink()"
   ]
  },
  {
   "attachments": {},
   "cell_type": "markdown",
   "metadata": {},
   "source": [
    "<br>\n",
    "\n",
    "---\n",
    "\n",
    "## Municípios\n",
    "\n",
    "Adiciona à tabela dos municípios as comarcas\n"
   ]
  },
  {
   "cell_type": "code",
   "execution_count": null,
   "metadata": {},
   "outputs": [],
   "source": [
    "# Read Data\n",
    "df_tjsp = pd.read_csv(output_path_tab / 'Unidades, Municípios e Comarcas.csv')\n",
    "\n",
    "# Aplica strip em todo o dataframe\n",
    "df_tjsp = df_tjsp.map(lambda x: x.strip() if isinstance(x, str) else x)\n",
    "\n",
    "# Results\n",
    "df_tjsp.info()\n",
    "df_tjsp.head()"
   ]
  },
  {
   "cell_type": "code",
   "execution_count": null,
   "metadata": {},
   "outputs": [],
   "source": [
    "# Filtra Colunas\n",
    "df_tjsp = df_tjsp.drop(\n",
    "    labels=[\n",
    "        'unidades',\n",
    "        'raj',\n",
    "        #'municipio_tjsp',\n",
    "        'municipio_corrigido',\n",
    "        #'id_municipio_tjsp',\n",
    "    ],\n",
    "    axis='columns',\n",
    "    errors='ignore',\n",
    ")\n",
    "\n",
    "df_tjsp = df_tjsp.drop_duplicates()\n",
    "df_tjsp_mun = df_tjsp.copy()\n",
    "# df_tjsp_mun[df_tjsp_mun['municipio_tjsp'] == 'Charqueada']\n",
    "df_tjsp_mun"
   ]
  },
  {
   "cell_type": "code",
   "execution_count": null,
   "metadata": {},
   "outputs": [],
   "source": [
    "# Ajusta Coluna\n",
    "df_tjsp_mun = adjust_columns(df=df_tjsp_mun, column_ajust='municipio_tjsp')"
   ]
  },
  {
   "cell_type": "markdown",
   "metadata": {},
   "source": [
    "<br>\n",
    "\n",
    "### Municípios\n"
   ]
  },
  {
   "cell_type": "code",
   "execution_count": null,
   "metadata": {},
   "outputs": [],
   "source": [
    "df_script3 = pd.read_csv(output_path_tab / 'Municipios.csv')\n",
    "\n",
    "# Aplica strip em todo o dataframe\n",
    "df_script3 = df_script3.map(lambda x: x.strip() if isinstance(x, str) else x)\n",
    "\n",
    "# Results\n",
    "df_script3.info()\n",
    "df_script3.head()"
   ]
  },
  {
   "cell_type": "code",
   "execution_count": null,
   "metadata": {},
   "outputs": [],
   "source": [
    "# Ajusta Coluna\n",
    "df_script3 = adjust_columns(df=df_script3, column_ajust='municipio_tjsp')"
   ]
  },
  {
   "cell_type": "code",
   "execution_count": null,
   "metadata": {},
   "outputs": [],
   "source": [
    "# Merge\n",
    "df_tjsp_merged = pd.merge(\n",
    "    left=df_script3,\n",
    "    right=df_tjsp_mun,\n",
    "    left_on='municipio_tjsp_temp',\n",
    "    right_on='municipio_tjsp_temp',\n",
    "    how='left',\n",
    "    suffixes=['', '_copy'],\n",
    ")\n",
    "\n",
    "# Results\n",
    "df_tjsp_merged.info()\n",
    "df_tjsp_merged.head()"
   ]
  },
  {
   "cell_type": "code",
   "execution_count": null,
   "metadata": {},
   "outputs": [],
   "source": [
    "# Filtra Colunas\n",
    "df_tjsp_merged = df_tjsp_merged.drop(\n",
    "    labels=[\n",
    "        'municipio_tjsp_temp',\n",
    "        'id_municipio_tjsp_copy',\n",
    "        'municipio_tjsp_copy',\n",
    "        'id_municipio_copy',\n",
    "    ],\n",
    "    axis='columns',\n",
    "    errors='ignore',\n",
    ")\n",
    "\n",
    "# Results\n",
    "df_tjsp_merged.info()\n",
    "df_tjsp_merged.head()"
   ]
  },
  {
   "cell_type": "markdown",
   "metadata": {},
   "source": [
    "Uma vez que adicionei o nome da Comarca...\\\n",
    "Desejo converter para número...\n",
    "\n",
    "Para isso eu leio a tabela de comarcas.\n"
   ]
  },
  {
   "cell_type": "markdown",
   "metadata": {},
   "source": [
    "<br>\n",
    "\n",
    "### Comarcas\n"
   ]
  },
  {
   "cell_type": "code",
   "execution_count": null,
   "metadata": {},
   "outputs": [],
   "source": [
    "# Read Data\n",
    "df_tjsp_com = pd.read_csv(output_path_tab / 'Comarcas.csv')\n",
    "\n",
    "# Results\n",
    "df_tjsp_com.info()\n",
    "df_tjsp_com.head()"
   ]
  },
  {
   "cell_type": "code",
   "execution_count": null,
   "metadata": {},
   "outputs": [],
   "source": [
    "df_tjsp_com = adjust_columns(df=df_tjsp_com, column_ajust='comarca_tjsp')\n",
    "df_tjsp_com"
   ]
  },
  {
   "cell_type": "code",
   "execution_count": null,
   "metadata": {},
   "outputs": [],
   "source": [
    "df_tjsp_merged = adjust_columns(df=df_tjsp_merged, column_ajust='comarca_tjsp')\n",
    "df_tjsp_merged"
   ]
  },
  {
   "cell_type": "code",
   "execution_count": null,
   "metadata": {},
   "outputs": [],
   "source": [
    "df_municipio = pd.merge(\n",
    "    left=df_tjsp_merged,\n",
    "    right=df_tjsp_com,\n",
    "    left_on='comarca_tjsp_temp',\n",
    "    right_on='comarca_tjsp_temp',\n",
    "    how='left',\n",
    "    suffixes=['', '_copy'],\n",
    ")\n",
    "\n",
    "df_municipio = df_municipio.drop(\n",
    "    labels=[\n",
    "        'comarca_tjsp_temp',\n",
    "        'comarca_corrigido',\n",
    "        'comarca_tjsp_copy',\n",
    "        'comarca_tjsp',\n",
    "    ],\n",
    "    axis='columns',\n",
    ")\n",
    "\n",
    "df_municipio"
   ]
  },
  {
   "cell_type": "code",
   "execution_count": null,
   "metadata": {},
   "outputs": [],
   "source": [
    "filename = 'Municipios'\n",
    "\n",
    "# Salva\n",
    "df_municipio.to_csv(output_path_tab / f'{filename}.csv', index=False)\n",
    "df_municipio.to_excel(\n",
    "    output_path_tab / f'{filename}.xlsx', sheet_name=f'{filename}', index=False\n",
    ")"
   ]
  },
  {
   "cell_type": "code",
   "execution_count": null,
   "metadata": {},
   "outputs": [],
   "source": []
  }
 ],
 "metadata": {
  "kernelspec": {
   "display_name": "pablocarreira-lastest",
   "language": "python",
   "name": "python3"
  },
  "language_info": {
   "codemirror_mode": {
    "name": "ipython",
    "version": 3
   },
   "file_extension": ".py",
   "mimetype": "text/x-python",
   "name": "python",
   "nbconvert_exporter": "python",
   "pygments_lexer": "ipython3",
   "version": "3.10.13"
  }
 },
 "nbformat": 4,
 "nbformat_minor": 2
}
