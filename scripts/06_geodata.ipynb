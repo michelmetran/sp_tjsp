{
 "cells": [
  {
   "attachments": {},
   "cell_type": "markdown",
   "metadata": {},
   "source": [
    "<br>\n",
    "\n",
    "# Introdução\n",
    "\n",
    "Juntar Código da CJ na tabela\n"
   ]
  },
  {
   "cell_type": "code",
   "execution_count": null,
   "metadata": {},
   "outputs": [],
   "source": [
    "import pandas as pd\n",
    "from open_geodata import converts, geo\n",
    "from sp_tjsp_divadmin.my_paths import (\n",
    "    output_path_geo,\n",
    "    output_path_gpkg,\n",
    "    output_path_tab,\n",
    ")"
   ]
  },
  {
   "attachments": {},
   "cell_type": "markdown",
   "metadata": {},
   "source": [
    "<br>\n",
    "\n",
    "## Dados Espaciais\n"
   ]
  },
  {
   "cell_type": "code",
   "execution_count": null,
   "metadata": {},
   "outputs": [],
   "source": [
    "geo.get_dataset_names()"
   ]
  },
  {
   "cell_type": "code",
   "execution_count": null,
   "metadata": {},
   "outputs": [],
   "source": [
    "# Pega Delimitação dos Municípios\n",
    "gdf_mun = geo.load_dataset('geo.sp.sp_250k_wgs84')\n",
    "\n",
    "# Delete Columns\n",
    "gdf_mun = gdf_mun.drop(['municipio_nome'], axis=1, errors='ignore')\n",
    "gdf_mun.head(2)"
   ]
  },
  {
   "cell_type": "code",
   "execution_count": null,
   "metadata": {},
   "outputs": [],
   "source": [
    "# Pega os Nomes Corretos\n",
    "df_geo_mun = geo.load_dataset('tab.sp.tab_municipio_nome')\n",
    "df_geo_mun.head(2)"
   ]
  },
  {
   "cell_type": "code",
   "execution_count": null,
   "metadata": {},
   "outputs": [],
   "source": [
    "# Junta Delimitação com Nomes Corretos\n",
    "gdf_mun = gdf_mun.merge(right=df_geo_mun, on='id_municipio', how='left')\n",
    "\n",
    "# Results\n",
    "gdf_mun.info()\n",
    "gdf_mun.head(2)"
   ]
  },
  {
   "attachments": {},
   "cell_type": "markdown",
   "metadata": {},
   "source": [
    "<br>\n",
    "\n",
    "## Dados Tabulares: Municípios\n"
   ]
  },
  {
   "cell_type": "code",
   "execution_count": null,
   "metadata": {},
   "outputs": [],
   "source": [
    "df_tjsp_mun = pd.read_csv(output_path_tab / 'Municipios.csv')\n",
    "\n",
    "df_tjsp_mun = df_tjsp_mun.drop(\n",
    "    ['municipio_tjsp', 'municipio_corrigido', 'id_cj'], axis=1, errors='ignore'\n",
    ")\n",
    "\n",
    "df_tjsp_mun.info()\n",
    "df_tjsp_mun.head(2)"
   ]
  },
  {
   "cell_type": "code",
   "execution_count": null,
   "metadata": {},
   "outputs": [],
   "source": [
    "# Junta Delimitação com Nomes Corretos\n",
    "gdf_mun = gdf_mun.merge(\n",
    "    right=df_tjsp_mun,\n",
    "    left_on='id_municipio',\n",
    "    right_on='id_municipio',\n",
    "    how='left',\n",
    ")\n",
    "\n",
    "# Delete id_municipio\n",
    "gdf_mun = gdf_mun.drop(['id_municipio'], axis=1, errors='ignore')\n",
    "\n",
    "# Results\n",
    "gdf_mun.info()\n",
    "gdf_mun.head(2)"
   ]
  },
  {
   "attachments": {},
   "cell_type": "markdown",
   "metadata": {},
   "source": [
    "<br>\n",
    "\n",
    "## Dados Tabulares: Comarcas\n"
   ]
  },
  {
   "cell_type": "code",
   "execution_count": null,
   "metadata": {},
   "outputs": [],
   "source": [
    "df_comarca = pd.read_csv(output_path_tab / 'Comarcas.csv')\n",
    "\n",
    "# Results\n",
    "df_comarca.info()\n",
    "df_comarca.head(2)"
   ]
  },
  {
   "cell_type": "code",
   "execution_count": null,
   "metadata": {},
   "outputs": [],
   "source": [
    "# Junta Delimitação com Nomes Corretos\n",
    "gdf_mun = gdf_mun.merge(\n",
    "    right=df_comarca, left_on='id_comarca', right_on='id_comarca', how='left'\n",
    ")\n",
    "\n",
    "# Results\n",
    "gdf_mun.info()\n",
    "gdf_mun.head(2)"
   ]
  },
  {
   "attachments": {},
   "cell_type": "markdown",
   "metadata": {},
   "source": [
    "<br>\n",
    "\n",
    "## Dados Tabulares: CJs\n"
   ]
  },
  {
   "cell_type": "code",
   "execution_count": null,
   "metadata": {},
   "outputs": [],
   "source": [
    "df_cjs = pd.read_csv(output_path_tab / 'Circunscrições Judiciárias.csv')\n",
    "\n",
    "# Results\n",
    "df_cjs.info()\n",
    "df_cjs.head(2)"
   ]
  },
  {
   "cell_type": "code",
   "execution_count": null,
   "metadata": {},
   "outputs": [],
   "source": [
    "# Junta Delimitação com CJs\n",
    "gdf_mun = gdf_mun.merge(\n",
    "    right=df_cjs, left_on='id_cj', right_on='id_cj', how='left'\n",
    ")\n",
    "\n",
    "# Results\n",
    "gdf_mun.info()\n",
    "gdf_mun.head(2)"
   ]
  },
  {
   "attachments": {},
   "cell_type": "markdown",
   "metadata": {},
   "source": [
    "<br>\n",
    "\n",
    "## Dados Tabulares: RAJs\n"
   ]
  },
  {
   "cell_type": "code",
   "execution_count": null,
   "metadata": {},
   "outputs": [],
   "source": [
    "df_rajs = pd.read_csv(output_path_tab / 'RAJs.csv')\n",
    "\n",
    "# Results\n",
    "df_rajs.info()\n",
    "df_rajs.head(2)"
   ]
  },
  {
   "cell_type": "code",
   "execution_count": null,
   "metadata": {},
   "outputs": [],
   "source": [
    "# Junta Delimitação com RAJs\n",
    "gdf_mun = gdf_mun.merge(\n",
    "    right=df_rajs, left_on='id_raj', right_on='id_raj', how='left'\n",
    ")\n",
    "\n",
    "# Results\n",
    "gdf_mun.info()\n",
    "gdf_mun.head(2)"
   ]
  },
  {
   "cell_type": "code",
   "execution_count": null,
   "metadata": {},
   "outputs": [],
   "source": [
    "gdf_mun.to_file(\n",
    "    output_path_gpkg / 'sp_tjsp_divadmin.gpkg',\n",
    "    driver='GPKG',\n",
    ")"
   ]
  },
  {
   "cell_type": "code",
   "execution_count": null,
   "metadata": {},
   "outputs": [],
   "source": [
    "converts.files.convert_to_7zip(output_path_gpkg, output_path_geo)"
   ]
  },
  {
   "cell_type": "code",
   "execution_count": null,
   "metadata": {},
   "outputs": [],
   "source": []
  }
 ],
 "metadata": {
  "kernelspec": {
   "display_name": "pablocarreira-lastest",
   "language": "python",
   "name": "python3"
  },
  "language_info": {
   "codemirror_mode": {
    "name": "ipython",
    "version": 3
   },
   "file_extension": ".py",
   "mimetype": "text/x-python",
   "name": "python",
   "nbconvert_exporter": "python",
   "pygments_lexer": "ipython3",
   "version": "3.10.13"
  }
 },
 "nbformat": 4,
 "nbformat_minor": 2
}
