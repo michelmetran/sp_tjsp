{
 "cells": [
  {
   "cell_type": "markdown",
   "metadata": {},
   "source": [
    "<br>\n",
    "\n",
    "## Rotate\n",
    "\n",
    "- https://github.com/Ge0rg3/requests-ip-rotator\n",
    "- https://sa-east-1.console.aws.amazon.com/apigateway/main/apis?region=sa-east-1"
   ]
  },
  {
   "cell_type": "code",
   "execution_count": null,
   "metadata": {},
   "outputs": [],
   "source": [
    "import concurrent\n",
    "import os\n",
    "import re\n",
    "\n",
    "import pandas as pd\n",
    "import requests\n",
    "from bs4 import BeautifulSoup\n",
    "from dotenv import load_dotenv\n",
    "from requests_ip_rotator import EXTRA_REGIONS, ApiGateway\n",
    "from selenium.webdriver.common.by import By\n",
    "\n",
    "from sp_tjsp_divadmin.my_driver import Driver\n",
    "from sp_tjsp_divadmin.my_functions import (\n",
    "    find_text_between_parenthesis,\n",
    "    keep_numbers,\n",
    ")\n",
    "from sp_tjsp_divadmin.my_paths import (\n",
    "    adds_path,\n",
    "    driver_path,\n",
    "    logs_path,\n",
    "    output_path_tab,\n",
    ")"
   ]
  },
  {
   "cell_type": "code",
   "execution_count": null,
   "metadata": {},
   "outputs": [],
   "source": [
    "load_dotenv()\n",
    "\n",
    "aws_access_key_id = os.getenv('AWS_ACCESS_KEY_ID')\n",
    "aws_secret_access_key = os.getenv('AWS_SECRET_ACCESS_KEY')"
   ]
  },
  {
   "cell_type": "code",
   "execution_count": null,
   "metadata": {},
   "outputs": [],
   "source": [
    "unidade = 'Santos'"
   ]
  },
  {
   "cell_type": "code",
   "execution_count": null,
   "metadata": {},
   "outputs": [],
   "source": [
    "with ApiGateway(\n",
    "    site='https://www.tjsp.jus.br',\n",
    "    access_key_id=aws_access_key_id,\n",
    "    access_key_secret=aws_secret_access_key,\n",
    "    regions=['sa-east-1'],\n",
    "    verbose=True,\n",
    ") as g:\n",
    "    session = requests.Session()\n",
    "    session.mount('https://www.tjsp.jus.br', g)\n",
    "\n",
    "    response = session.post(\n",
    "        url='https://www.tjsp.jus.br/AutoComplete/ListarImoveis',\n",
    "        json={'texto': unidade},\n",
    "    )\n",
    "    print(response.status_code)"
   ]
  },
  {
   "cell_type": "code",
   "execution_count": null,
   "metadata": {},
   "outputs": [],
   "source": []
  },
  {
   "cell_type": "code",
   "execution_count": null,
   "metadata": {},
   "outputs": [],
   "source": [
    "gateway = ApiGateway(\n",
    "    site='https://www.tjsp.jus.br',\n",
    "    access_key_id=aws_access_key_id,\n",
    "    access_key_secret=aws_secret_access_key,\n",
    "    regions=['sa-east-1'],\n",
    "    verbose=True)\n",
    "gateway.start()\n",
    "\n",
    "session = requests.Session()\n",
    "session.mount(\n",
    "    prefix='https://www.tjsp.jus.br', adapter=gateway\n",
    ")\n",
    "\n",
    "response = session.post(\n",
    "    url='https://www.tjsp.jus.br/AutoComplete/ListarImoveis',\n",
    "    json={'texto': unidade},\n",
    ")\n",
    "print(response.status_code)"
   ]
  },
  {
   "cell_type": "code",
   "execution_count": null,
   "metadata": {},
   "outputs": [],
   "source": [
    "# Only run this line if you are no longer going to run the script, as it takes longer to boot up again next time.\n",
    "gateway.shutdown()"
   ]
  },
  {
   "cell_type": "code",
   "execution_count": null,
   "metadata": {},
   "outputs": [],
   "source": []
  }
 ],
 "metadata": {
  "kernelspec": {
   "display_name": "pablocarreira-lastest",
   "language": "python",
   "name": "python3"
  },
  "language_info": {
   "codemirror_mode": {
    "name": "ipython",
    "version": 3
   },
   "file_extension": ".py",
   "mimetype": "text/x-python",
   "name": "python",
   "nbconvert_exporter": "python",
   "pygments_lexer": "ipython3",
   "version": "3.10.13"
  }
 },
 "nbformat": 4,
 "nbformat_minor": 2
}
