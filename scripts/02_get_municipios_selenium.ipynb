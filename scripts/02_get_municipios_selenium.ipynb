{
 "cells": [
  {
   "attachments": {},
   "cell_type": "markdown",
   "metadata": {},
   "source": [
    "<br>\n",
    "\n",
    "# Método POST\n",
    "\n",
    "Notei que o site usa uma API \"por atrás\" para retornar as informações.\n"
   ]
  },
  {
   "cell_type": "code",
   "execution_count": null,
   "metadata": {},
   "outputs": [],
   "source": [
    "import time\n",
    "\n",
    "from selenium.webdriver.common.by import By\n",
    "from selenium.webdriver.common.keys import Keys\n",
    "from selenium.webdriver.support.ui import Select\n",
    "\n",
    "from sp_tjsp_divadmin.my_driver import Driver\n",
    "from sp_tjsp_divadmin.my_paths import adds_path, driver_path, logs_path"
   ]
  },
  {
   "attachments": {},
   "cell_type": "markdown",
   "metadata": {},
   "source": [
    "<br>\n",
    "\n",
    "----\n",
    "\n",
    "## Driver\n",
    "\n",
    "Inicialmente, na primeira abordagem, tentei acessar o site da Lista Telefônica para obter os dados do TJSP.\n"
   ]
  },
  {
   "cell_type": "code",
   "execution_count": null,
   "metadata": {},
   "outputs": [],
   "source": [
    "driver = Driver(\n",
    "    my_driver_path=driver_path,\n",
    "    my_logs_path=logs_path,\n",
    "    verify_ssl=False,\n",
    ")\n",
    "driver.add_extension_xpath(my_adds_path=adds_path)"
   ]
  },
  {
   "cell_type": "code",
   "execution_count": null,
   "metadata": {},
   "outputs": [],
   "source": [
    "# Go TJSP\n",
    "URL = 'https://www.tjsp.jus.br/ListaTelefonica'\n",
    "driver.get(URL)"
   ]
  },
  {
   "cell_type": "code",
   "execution_count": null,
   "metadata": {},
   "outputs": [],
   "source": [
    "# Parâmetros\n",
    "procurar_por = 'Município'\n",
    "text_procurar = 'Santos'"
   ]
  },
  {
   "cell_type": "code",
   "execution_count": null,
   "metadata": {},
   "outputs": [],
   "source": [
    "# Tipo de Busca\n",
    "select = Select(driver.find_element(By.XPATH, '//*[@id=\"btnTipoBusca\"]'))\n",
    "\n",
    "# Opções para Procura\n",
    "option_list = select.options\n",
    "option_list = [x.text for x in option_list]\n",
    "\n",
    "# sss\n",
    "if procurar_por in option_list:\n",
    "    select.select_by_visible_text(procurar_por)\n",
    "else:\n",
    "    raise Exception(f'Valor deve estar entre {option_list}')"
   ]
  },
  {
   "attachments": {},
   "cell_type": "markdown",
   "metadata": {},
   "source": [
    "<br>\n",
    "\n",
    "Dai notei que a cada letra digitada, uma lista de municípios apareciam, indicando que algum método POST estava atuando.\n",
    "\n",
    "Optei por ver o método POST e trabalhar com ele, mudando a abordagem!\n"
   ]
  },
  {
   "cell_type": "code",
   "execution_count": null,
   "metadata": {},
   "outputs": [],
   "source": [
    "field_xpath = driver.find_element(By.XPATH, '//*[@id=\"Descricao\"]')\n",
    "field_xpath.clear()\n",
    "field_xpath.send_keys(Keys.BACKSPACE * 50)\n",
    "\n",
    "for letra in text_procurar:\n",
    "    print(letra)\n",
    "    time.sleep(1)\n",
    "    field_xpath.send_keys(letra)"
   ]
  },
  {
   "cell_type": "code",
   "execution_count": null,
   "metadata": {},
   "outputs": [],
   "source": [
    "driver.quit()"
   ]
  },
  {
   "cell_type": "code",
   "execution_count": null,
   "metadata": {},
   "outputs": [],
   "source": []
  }
 ],
 "metadata": {
  "kernelspec": {
   "display_name": "pablocarreira-lastest",
   "language": "python",
   "name": "python3"
  },
  "language_info": {
   "codemirror_mode": {
    "name": "ipython",
    "version": 3
   },
   "file_extension": ".py",
   "mimetype": "text/x-python",
   "name": "python",
   "nbconvert_exporter": "python",
   "pygments_lexer": "ipython3",
   "version": "3.10.13"
  }
 },
 "nbformat": 4,
 "nbformat_minor": 2
}
