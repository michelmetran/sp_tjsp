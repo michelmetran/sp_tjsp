{
 "cells": [
  {
   "attachments": {},
   "cell_type": "markdown",
   "id": "eb4059ce",
   "metadata": {},
   "source": [
    "<br>\n",
    "\n",
    "# Unidades e Imóveis\n",
    "\n",
    "O TJSP, em sua API e interface do usuário, utiliza com sinônimos os conceitos de \"Unidades\" e \"Imóveis\".\n",
    "\n",
    "<br>\n",
    "\n",
    "Michel Metran\\\n",
    "Data: 18.06.2024\\\n",
    "Atualizado em: 18.06.2024\n"
   ]
  },
  {
   "cell_type": "code",
   "execution_count": null,
   "id": "f5abae38",
   "metadata": {},
   "outputs": [],
   "source": [
    "#!pip3 install requests-ip-rotator\n",
    "#!pip3 install traquitanas"
   ]
  },
  {
   "cell_type": "code",
   "execution_count": null,
   "id": "8d807595",
   "metadata": {},
   "outputs": [],
   "source": [
    "import concurrent\n",
    "import os\n",
    "import re\n",
    "from typing import Literal\n",
    "\n",
    "import pandas as pd\n",
    "import requests\n",
    "from bs4 import BeautifulSoup\n",
    "from dotenv import load_dotenv\n",
    "from open_geodata import geo\n",
    "from requests_ip_rotator import ApiGateway\n",
    "\n",
    "from sp_tjsp_divadmin.my_functions import (\n",
    "    adjust_columns,\n",
    "    find_text_between_parenthesis,\n",
    "    keep_numbers,\n",
    "    strip_accents,\n",
    ")\n",
    "from sp_tjsp_divadmin.my_paths import output_path_tab"
   ]
  },
  {
   "cell_type": "code",
   "execution_count": null,
   "id": "3027a0c0",
   "metadata": {},
   "outputs": [],
   "source": [
    "# from selenium import webdriver\n",
    "# from selenium.webdriver.common.by import By\n",
    "# from selenium.webdriver.firefox.options import Options as FirefoxOptions\n",
    "# from selenium.webdriver.firefox.service import Service as FirefoxService\n",
    "# from selenium.webdriver.support import expected_conditions as EC\n",
    "# from selenium.webdriver.support.ui import Select\n",
    "# from selenium.webdriver.support.wait import WebDriverWait\n",
    "# from traquitanas.scrapping import adds, gecko\n",
    "\n",
    "# from sp_tjsp_divadmin.my_driver import Driver\n",
    "\n",
    "# from sp_tjsp_divadmin.my_paths import (\n",
    "#     adds_path,\n",
    "#     driver_path,\n",
    "#     logs_path,\n",
    "# )"
   ]
  },
  {
   "cell_type": "code",
   "execution_count": null,
   "id": "264b2ee3",
   "metadata": {},
   "outputs": [],
   "source": [
    "load_dotenv()\n",
    "\n",
    "aws_access_key_id = os.getenv('AWS_ACCESS_KEY_ID')\n",
    "aws_secret_access_key = os.getenv('AWS_SECRET_ACCESS_KEY')"
   ]
  },
  {
   "cell_type": "markdown",
   "id": "8dcd98f7",
   "metadata": {},
   "source": [
    "<br>\n",
    "\n",
    "---\n",
    "\n",
    "## Imóveis\n",
    "\n",
    "Na primeira tentativa, montamos uma lista de termos que iremos utiliza para a pesquisa. Juntamos tanto a lista de Unidades, obtida em consulta anterior, como a lista com o nome de municípios.\n"
   ]
  },
  {
   "cell_type": "code",
   "execution_count": null,
   "id": "51ad1fad",
   "metadata": {},
   "outputs": [],
   "source": [
    "# Preciso listar Imóveis para obter o código\n",
    "df_unidades = pd.read_csv(\n",
    "    output_path_tab / 'Unidades, Municípios e Comarcas.csv'\n",
    ")\n",
    "list_unidades = list(df_unidades['unidades'])\n",
    "\n",
    "# Passa para lowercase\n",
    "list_unidades = [x.lower() for x in list_unidades]\n",
    "\n",
    "# Pega cada palavra\n",
    "list_unidades_words = [\n",
    "    word for phrase in list_unidades for word in phrase.split()\n",
    "]\n",
    "\n",
    "# Retira duplicados\n",
    "list_unidades_words = list(set(list_unidades_words))\n",
    "\n",
    "# Pega maior que 4 caracters\n",
    "list_unidades_words = [x for x in list_unidades_words if len(x) >= 4]\n",
    "\n",
    "# Results\n",
    "print(len(list_unidades_words))\n",
    "list_unidades_words[:10]"
   ]
  },
  {
   "cell_type": "code",
   "execution_count": null,
   "id": "d07b430c",
   "metadata": {},
   "outputs": [],
   "source": [
    "# Cria Lista\n",
    "df_geo_mun = geo.load_dataset('tab.sp.tab_municipio_nome')\n",
    "lista_municipios = list(df_geo_mun['municipio_nome'])\n",
    "\n",
    "# Passa para lowercase\n",
    "lista_municipios = [x.lower() for x in lista_municipios]\n",
    "\n",
    "# Pega cada palavra\n",
    "lista_municipios_words = [\n",
    "    word for phrase in lista_municipios for word in phrase.split()\n",
    "]\n",
    "\n",
    "# Retira duplicados\n",
    "lista_municipios_words = list(set(lista_municipios_words))\n",
    "\n",
    "# Pega maior que 4 caracters\n",
    "lista_municipios_words = [x for x in lista_municipios_words if len(x) >= 4]\n",
    "\n",
    "# Results\n",
    "print(len(lista_municipios_words))\n",
    "lista_municipios_words[:10]"
   ]
  },
  {
   "cell_type": "code",
   "execution_count": null,
   "id": "ce9fee1d",
   "metadata": {},
   "outputs": [],
   "source": [
    "list_search = list_unidades_words + lista_municipios_words\n",
    "list_search = list(set(list_search))\n",
    "\n",
    "print(len(list_search))\n",
    "list_search[0:10]"
   ]
  },
  {
   "cell_type": "markdown",
   "id": "9f8df454",
   "metadata": {},
   "source": [
    "Com a lista pronta, instânciamos uma API na AWS, para que as requisições não sejam bloqueadas.\n"
   ]
  },
  {
   "cell_type": "code",
   "execution_count": null,
   "id": "6ba4bcf5",
   "metadata": {},
   "outputs": [],
   "source": [
    "# Cria Gateway\n",
    "gateway = ApiGateway(\n",
    "    site='https://www.tjsp.jus.br',\n",
    "    access_key_id=aws_access_key_id,\n",
    "    access_key_secret=aws_secret_access_key,\n",
    "    regions=['sa-east-1'],\n",
    "    verbose=True,\n",
    ")\n",
    "gateway.pool_connections = 10\n",
    "gateway.pool_maxsize = 10\n",
    "gateway.start()\n",
    "\n",
    "# Cria Session\n",
    "session = requests.Session()\n",
    "session.mount(prefix='https://www.tjsp.jus.br', adapter=gateway)"
   ]
  },
  {
   "cell_type": "code",
   "execution_count": null,
   "id": "528de97c",
   "metadata": {},
   "outputs": [],
   "source": [
    "def get_id_unidade(\n",
    "    unidade,\n",
    "    req_type: Literal['basic', 'aws'] = 'aws',\n",
    "    req_session=session,\n",
    ") -> pd.DataFrame:\n",
    "    \"\"\"\n",
    "    Obtem o código (ou ID) das Unidades (ou Imóveis) do TJSP\n",
    "\n",
    "    :param unidade: nome da Unidade, ou trecho do nome\n",
    "    :return: tabela com os valores\n",
    "    \"\"\"\n",
    "    # Get Data\n",
    "    if req_type == 'basic':\n",
    "        r = requests.post(\n",
    "            'https://www.tjsp.jus.br/AutoComplete/ListarImoveis',\n",
    "            json={'texto': unidade},\n",
    "        )\n",
    "    elif req_type == 'aws':\n",
    "        r = req_session.post(\n",
    "            'https://www.tjsp.jus.br/AutoComplete/ListarImoveis',\n",
    "            json={'texto': unidade},\n",
    "        )\n",
    "\n",
    "    # Se é lista vazia, ignora\n",
    "    if r.json() == 'listaVazia':\n",
    "        print(f'----------- Vazio em {unidade}')\n",
    "\n",
    "    # Se não é, registra!\n",
    "    else:\n",
    "        try:\n",
    "            df = pd.DataFrame(r.json())\n",
    "            df = df.rename(\n",
    "                mapper={\n",
    "                    'Codigo': 'id_unidade',\n",
    "                    'Descricao': 'unidade',\n",
    "                },\n",
    "                axis='columns',\n",
    "            )\n",
    "            return df\n",
    "        except:\n",
    "            print(f'>>>>>>>> Errou em {unidade}')"
   ]
  },
  {
   "cell_type": "code",
   "execution_count": null,
   "id": "e893de58",
   "metadata": {},
   "outputs": [],
   "source": [
    "get_id_unidade(unidade='Santos', req_type='basic')"
   ]
  },
  {
   "cell_type": "markdown",
   "id": "fea2f1c2",
   "metadata": {},
   "source": [
    "Inicialmente eu tentei utilizar um método básico para consultas, utilizando a biblioteca `requests`.\n",
    "\n",
    "```\n",
    "list_dfs = []\n",
    "for i in list_unidades:\n",
    "    list_dfs.append(get_id_unidade(unidade=i))\n",
    "\n",
    "\n",
    "df_unidades_ids = pd.concat(objs=list_dfs, ignore_index=True)\n",
    "df_unidades_ids\n",
    "```\n",
    "\n",
    "<br>\n",
    "\n",
    "Contudo, não estava nada eficente. Rodou trinta minutos e não baixou tudo... dai cancelei e procurei alternativas.\n"
   ]
  },
  {
   "cell_type": "code",
   "execution_count": null,
   "id": "c1445e54",
   "metadata": {},
   "outputs": [],
   "source": [
    "# Encerra o worker\n",
    "# gateway.shutdown()"
   ]
  },
  {
   "cell_type": "code",
   "execution_count": null,
   "id": "d180fc67",
   "metadata": {},
   "outputs": [],
   "source": [
    "get_id_unidade(unidade='Santos', req_type='aws')"
   ]
  },
  {
   "cell_type": "code",
   "execution_count": null,
   "id": "82928e28",
   "metadata": {},
   "outputs": [],
   "source": [
    "# Parameters\n",
    "MAX_THREADS = 4\n",
    "list_dfs = []\n",
    "list_futures = []\n",
    "\n",
    "# Paralelo\n",
    "with concurrent.futures.ThreadPoolExecutor(max_workers=MAX_THREADS) as executor:\n",
    "    # Cria Lista de Tarefas\n",
    "    for un in list_search:\n",
    "        futures = executor.submit(get_id_unidade, un)\n",
    "        list_futures.append(futures)\n",
    "\n",
    "    # Executa Lista de Tarefas\n",
    "    for future in concurrent.futures.as_completed(list_futures):\n",
    "        print(future.result())\n",
    "        list_dfs.append(future.result())\n",
    "\n",
    "# Encerra o worker\n",
    "#gateway.shutdown()"
   ]
  },
  {
   "cell_type": "markdown",
   "id": "8d7b1bf8",
   "metadata": {},
   "source": [
    "Com isso descobrimos que apesar da \"força bruta\" não foi possível capturar todas as Unidades.\n"
   ]
  },
  {
   "cell_type": "code",
   "execution_count": null,
   "id": "ca790485",
   "metadata": {},
   "outputs": [],
   "source": [
    "# Junta\n",
    "df_unidades_ids = pd.concat(objs=list_dfs, ignore_index=True)\n",
    "df_unidades_ids = df_unidades_ids.drop_duplicates()\n",
    "df_unidades_ids = df_unidades_ids.sort_values(by='id_unidade', ascending=True)\n",
    "df_unidades_ids = df_unidades_ids.reset_index(drop=True)\n",
    "\n",
    "# Resultados\n",
    "df_unidades_ids.info()\n",
    "display(df_unidades_ids.head())\n",
    "display(df_unidades_ids.tail())"
   ]
  },
  {
   "cell_type": "code",
   "execution_count": null,
   "id": "7a13ef14",
   "metadata": {},
   "outputs": [],
   "source": [
    "# Pesquisar uma Unidade Específica\n",
    "df_unidades_ids[df_unidades_ids['id_unidade'] == 259]"
   ]
  },
  {
   "cell_type": "code",
   "execution_count": null,
   "id": "45851e02",
   "metadata": {},
   "outputs": [],
   "source": [
    "# filename = 'Unidades Id'\n",
    "\n",
    "# # Salva\n",
    "# df_unidades_ids.to_csv(output_path_tab / f'{filename}.csv', index=False)\n",
    "# df_unidades_ids.to_excel(\n",
    "#     output_path_tab / f'{filename}.xlsx', sheet_name=f'{filename}', index=False\n",
    "# )"
   ]
  },
  {
   "cell_type": "markdown",
   "id": "187d3a3b",
   "metadata": {},
   "source": [
    "<br>\n",
    "\n",
    "---\n",
    "\n",
    "## Detalhes dos Imóveis / Unidades\n",
    "\n",
    "A pesquisa acima, que não mostrou bom resultado, indicou que o número de imóveis é de aproximadamente 1000! Isso é um ótimo indicativo!\n",
    "\n",
    "Construimos funções que farão a requisição dos dados.\n"
   ]
  },
  {
   "cell_type": "code",
   "execution_count": null,
   "id": "ad35a9cd",
   "metadata": {},
   "outputs": [],
   "source": [
    "def get_detalhes_unidades(\n",
    "    id_unidade,\n",
    "    req_type: Literal['basic', 'aws'] = 'aws',\n",
    "    req_session=session,\n",
    "):\n",
    "    \"\"\"\n",
    "    _summary_\n",
    "    # Uma vez com o Código do Imóvel, consigo obter detalhes\n",
    "    parmsEntrada=827&codigoTipoBusca=2\n",
    "    Aqui tem tudo que eu preciso!!!!\n",
    "    :param id_unidade: _description_\n",
    "    :type id_unidade: _type_\n",
    "    :param req_type: _description_, defaults to 'session'\n",
    "    :type req_type: Literal[&#39;basic&#39;, &#39;session&#39;], optional\n",
    "    :param req_session: _description_, defaults to session\n",
    "    :type req_session: _type_, optional\n",
    "    :return: _description_\n",
    "    :rtype: _type_\n",
    "    \"\"\"\n",
    "\n",
    "    if req_type == 'basic':\n",
    "        r = requests.post(\n",
    "            'https://www.tjsp.jus.br/ListaTelefonica/RetornarResultadoBusca',\n",
    "            json={'parmsEntrada': id_unidade, 'codigoTipoBusca': 2},\n",
    "        )\n",
    "\n",
    "    elif req_type == 'aws':\n",
    "        r = req_session.post(\n",
    "            'https://www.tjsp.jus.br/ListaTelefonica/RetornarResultadoBusca',\n",
    "            json={'parmsEntrada': id_unidade, 'codigoTipoBusca': 2},\n",
    "        )\n",
    "\n",
    "    soup = BeautifulSoup(r.text, 'html.parser')\n",
    "    return {'id_unidade': id_unidade, 'soup': soup}"
   ]
  },
  {
   "cell_type": "code",
   "execution_count": null,
   "id": "ca970483",
   "metadata": {},
   "outputs": [],
   "source": [
    "def get_detalhes_unidades_soup(res_get_detalhes_unidades):\n",
    "    \"\"\"\n",
    "    _summary_\n",
    "\n",
    "    :param soup: _description_\n",
    "    :return: _description_\n",
    "    \"\"\"\n",
    "    # Trbalha com input\n",
    "    soup = res_get_detalhes_unidades['soup']\n",
    "    id_unidade = res_get_detalhes_unidades['id_unidade']\n",
    "\n",
    "    # Parâmetros\n",
    "    try:\n",
    "        unidade = soup.find(name='h3', attrs={'id': 'imovelNome'}).text.strip()\n",
    "    except:\n",
    "        unidade = 'Sem nome'\n",
    "\n",
    "    endereco = (\n",
    "        soup.find('dt', string=re.compile('.*Endereço.*', flags=re.DOTALL))\n",
    "        .parent.find(name='dd')\n",
    "        .find(name='span')\n",
    "        .text.strip()\n",
    "    )\n",
    "\n",
    "    telefone = (\n",
    "        soup.find('dt', string=re.compile('.*Telefone.*', flags=re.DOTALL))\n",
    "        .parent.find(name='dd')\n",
    "        .find(name='span')\n",
    "        .text.strip()\n",
    "    )\n",
    "\n",
    "    fax = (\n",
    "        soup.find('dt', string=re.compile('.*Fax.*', flags=re.DOTALL))\n",
    "        .parent.find(name='dd')\n",
    "        .find(name='span')\n",
    "        .text.strip()\n",
    "    )\n",
    "\n",
    "    email: str = (\n",
    "        soup.find('dt', string=re.compile('.*E-mail.*', flags=re.DOTALL))\n",
    "        .parent.find(name='dd')\n",
    "        .find(name='span')\n",
    "        .text.strip()\n",
    "    )\n",
    "\n",
    "    cj: str = (\n",
    "        soup.find(\n",
    "            'dt',\n",
    "            string=re.compile('.*Circunscrição Judiciária.*', flags=re.DOTALL),\n",
    "        )\n",
    "        .parent.find(name='dd')\n",
    "        .find(name='span')\n",
    "        .text.strip()\n",
    "    )\n",
    "\n",
    "    num_varas_instaladas = (\n",
    "        soup.find(\n",
    "            'dt',\n",
    "            string=re.compile(\n",
    "                '.*Número de Varas Instaladas.*', flags=re.DOTALL\n",
    "            ),\n",
    "        )\n",
    "        .parent.find(name='dd')\n",
    "        .find(name='span')\n",
    "        .text.strip()\n",
    "    )\n",
    "\n",
    "    entrancia = (\n",
    "        soup.find('dt', string=re.compile('.*Entrância.*', flags=re.DOTALL))\n",
    "        .parent.find(name='dd')\n",
    "        .find(name='span')\n",
    "        .text.strip()\n",
    "    )\n",
    "\n",
    "    # re.compile('.*Comarca.*', flags=re.DOTALL)\n",
    "    comarca = (\n",
    "        soup.find('dt', string=re.compile('.*Comarca.*', flags=re.DOTALL))\n",
    "        .parent.find(name='dd')\n",
    "        .find(name='span')\n",
    "        .text.strip()\n",
    "    )\n",
    "\n",
    "    dist_capital = (\n",
    "        soup.find(\n",
    "            'dt', string=re.compile('.*Distância da Capital.*', flags=re.DOTALL)\n",
    "        )\n",
    "        .parent.find(name='dd')\n",
    "        .find(name='span')\n",
    "        .text.strip()\n",
    "    )\n",
    "\n",
    "    tensao_eletrica = (\n",
    "        soup.find(\n",
    "            'dt', string=re.compile('.*Tensão Elétrica.*', flags=re.DOTALL)\n",
    "        )\n",
    "        .parent.find(name='dd')\n",
    "        .find(name='span')\n",
    "        .text.strip()\n",
    "    )\n",
    "\n",
    "    tj_dict = {\n",
    "        'id_unidade': id_unidade,\n",
    "        'unidade': unidade,\n",
    "        'endereco': endereco,\n",
    "        'telefone': telefone,\n",
    "        'fax': fax,\n",
    "        'email': email,\n",
    "        'cj': cj,\n",
    "        'num_varas_instaladas': num_varas_instaladas,\n",
    "        'entrancia': entrancia,\n",
    "        'comarca': comarca,\n",
    "        'dist_capital': dist_capital,\n",
    "        'tensao_eletrica': tensao_eletrica,\n",
    "    }\n",
    "\n",
    "    return tj_dict"
   ]
  },
  {
   "cell_type": "markdown",
   "id": "c8e6c678",
   "metadata": {},
   "source": [
    "E, obtendo os dados sem o serviço da AWS temos o seguinte resultado!\n"
   ]
  },
  {
   "cell_type": "code",
   "execution_count": null,
   "id": "6958511a",
   "metadata": {},
   "outputs": [],
   "source": [
    "id_unidade = 88\n",
    "results = get_detalhes_unidades(id_unidade=id_unidade, req_type='basic')\n",
    "\n",
    "# Trata Resultado\n",
    "soup = results['soup']\n",
    "print(soup.prettify())\n",
    "\n",
    "# Detalhes\n",
    "get_detalhes_unidades_soup(res_get_detalhes_unidades=results)"
   ]
  },
  {
   "cell_type": "code",
   "execution_count": null,
   "id": "8be0f957",
   "metadata": {},
   "outputs": [],
   "source": [
    "# comarca = (\n",
    "#     soup.find('dt', string=re.compile('.*Comarca.*', flags=re.DOTALL))\n",
    "#     .parent.find(name='dd')\n",
    "#     .find(name='span')\n",
    "#     .text.strip()\n",
    "# )\n",
    "# comarca"
   ]
  },
  {
   "cell_type": "code",
   "execution_count": null,
   "id": "488a407e",
   "metadata": {},
   "outputs": [],
   "source": [
    "def get_unidades(id_unidade=id_unidade):\n",
    "\n",
    "    results = get_detalhes_unidades(\n",
    "        id_unidade=id_unidade, req_type='aws', req_session=session\n",
    "    )\n",
    "\n",
    "    # Trata Resultado\n",
    "    # soup = results['soup']\n",
    "    # print(soup.prettify())\n",
    "\n",
    "    # Resultado\n",
    "    dd = get_detalhes_unidades_soup(res_get_detalhes_unidades=results)\n",
    "    return dd"
   ]
  },
  {
   "cell_type": "code",
   "execution_count": null,
   "id": "faee2d7b",
   "metadata": {},
   "outputs": [],
   "source": [
    "id_unidade = 88\n",
    "get_unidades(id_unidade=id_unidade)"
   ]
  },
  {
   "cell_type": "code",
   "execution_count": null,
   "id": "41f8a8cd",
   "metadata": {},
   "outputs": [],
   "source": [
    "# Parameters\n",
    "MAX_THREADS = 4\n",
    "list_dfs = []\n",
    "list_futures = []\n",
    "\n",
    "# Paralelo\n",
    "with concurrent.futures.ThreadPoolExecutor(max_workers=MAX_THREADS) as executor:\n",
    "    # Cria Lista de Tarefas\n",
    "    for i in range(1, 1500):\n",
    "        futures = executor.submit(get_unidades, i)\n",
    "        list_futures.append(futures)\n",
    "\n",
    "    # Executa Lista de Tarefas\n",
    "    for future in concurrent.futures.as_completed(list_futures):\n",
    "        print(future.result())\n",
    "        list_dfs.append(future.result())\n",
    "\n",
    "# Encerra o worker\n",
    "gateway.shutdown()"
   ]
  },
  {
   "cell_type": "markdown",
   "id": "fa5bb246",
   "metadata": {},
   "source": [
    "Fazemos algumas correções no _dataframe_.\n"
   ]
  },
  {
   "cell_type": "code",
   "execution_count": null,
   "id": "3f5ea021",
   "metadata": {},
   "outputs": [],
   "source": [
    "# Monta Tabela\n",
    "df_unidades_infos = pd.DataFrame(list_dfs)\n",
    "df_unidades_infos = df_unidades_infos.drop_duplicates()\n",
    "df_unidades_infos = df_unidades_infos.sort_values(\n",
    "    by='id_unidade', ascending=True\n",
    ")\n",
    "df_unidades_infos = df_unidades_infos.reset_index(drop=True)\n",
    "\n",
    "# Results\n",
    "df_unidades_infos.info()\n",
    "display(df_unidades_infos.head())\n",
    "display(df_unidades_infos.tail())"
   ]
  },
  {
   "cell_type": "markdown",
   "id": "4831be73",
   "metadata": {},
   "source": [
    "Ajustamos telefone e fax\n"
   ]
  },
  {
   "cell_type": "code",
   "execution_count": null,
   "id": "0f1b629f",
   "metadata": {},
   "outputs": [],
   "source": [
    "# Remove ; do fim da coluna\n",
    "df_unidades_infos['telefone'] = df_unidades_infos['telefone'].str.replace(\n",
    "    r'\\;$', '', regex=True\n",
    ")\n",
    "df_unidades_infos['fax'] = df_unidades_infos['fax'].str.replace(\n",
    "    r'\\;$', '', regex=True\n",
    ")"
   ]
  },
  {
   "cell_type": "markdown",
   "id": "6334cb34",
   "metadata": {},
   "source": [
    "Splitamos o endereço\n",
    "\n",
    "Consegui splitar no \"CEP\", em duas partes.\\\n",
    "A segunda parte eu \"re-splitei\" em CEP, Municípioe e UF.\n",
    "\n",
    "Não há como \"re-splitei\" a primeira parte, pois no campo \"Lougradouro\" dá conflito!\n"
   ]
  },
  {
   "cell_type": "code",
   "execution_count": null,
   "id": "f58ec015",
   "metadata": {},
   "outputs": [],
   "source": [
    "# df_unidades_infos [['endereco_lougradouro', 'endereco_bairro', 'endereco_cep', 'endereco_uf']]=\n",
    "df_unidades_infos[['endereco_lougradouro', 'endereco_p2']] = df_unidades_infos[\n",
    "    'endereco'\n",
    "].str.split(' - CEP ', n=1, expand=True)\n",
    "df_unidades_infos[['endereco_cep', 'endereco_municipio', 'endereco_uf']] = (\n",
    "    df_unidades_infos['endereco_p2'].str.split(' - ', n=3, expand=True)\n",
    ")\n",
    "\n",
    "# Remove Columns\n",
    "df_unidades_infos = df_unidades_infos.drop(\n",
    "    labels=['endereco_p1', 'endereco_p2', 'endereco'],\n",
    "    inplace=False,\n",
    "    errors='ignore',\n",
    "    axis='columns',\n",
    ")"
   ]
  },
  {
   "cell_type": "code",
   "execution_count": null,
   "id": "c203b27b",
   "metadata": {},
   "outputs": [],
   "source": [
    "# df_unidades_infos[df_unidades_infos['endereco'].str.contains(' - CEP')]\n",
    "\n",
    "# Lougradouro / Bairro\n",
    "# df = df_unidades_infos['endereco_lougradouro'].str.split(' - ', n=3, expand=True)\n",
    "# df[~df[3].isna()]\n",
    "# df"
   ]
  },
  {
   "cell_type": "code",
   "execution_count": null,
   "id": "b0723313",
   "metadata": {},
   "outputs": [],
   "source": [
    "# aa = 'Avenida São José , 431 - Centro - CEP 17450-001 - Gália - SP'\n",
    "# aa.split(' - ')"
   ]
  },
  {
   "cell_type": "markdown",
   "id": "6201757c",
   "metadata": {},
   "source": [
    "Strip all columns\n"
   ]
  },
  {
   "cell_type": "code",
   "execution_count": null,
   "id": "51f21d5d",
   "metadata": {},
   "outputs": [],
   "source": [
    "# Aplica strip em todo o dataframe\n",
    "df_unidades_infos = df_unidades_infos.map(\n",
    "    lambda x: x.strip() if isinstance(x, str) else x\n",
    ")"
   ]
  },
  {
   "cell_type": "code",
   "execution_count": null,
   "id": "0c498003",
   "metadata": {},
   "outputs": [],
   "source": [
    "mask = (\n",
    "    (df_unidades_infos['unidade'] == '')\n",
    "    & (df_unidades_infos['telefone'] == 'Não Informado')\n",
    "    & (df_unidades_infos['fax'] == 'Não Informado')\n",
    "    & (df_unidades_infos['email'] == 'Não Informado')\n",
    "    & (df_unidades_infos['cj'] == 'Não Informado')\n",
    "    & (df_unidades_infos['entrancia'] == 'Não Informado')\n",
    "    & (df_unidades_infos['comarca'] == 'Não Informado')\n",
    "    & (df_unidades_infos['dist_capital'] == 'Não Informado')\n",
    "    & (df_unidades_infos['tensao_eletrica'] == 'Não Informado')\n",
    ")\n",
    "df_unidades_infos = df_unidades_infos[~mask]\n",
    "df_unidades_infos.head()"
   ]
  },
  {
   "cell_type": "markdown",
   "id": "7708bf35",
   "metadata": {},
   "source": [
    "Varas"
   ]
  },
  {
   "cell_type": "code",
   "execution_count": null,
   "id": "55da64e5",
   "metadata": {},
   "outputs": [],
   "source": [
    "df_unidades_infos['num_varas_instaladas'] = df_unidades_infos['num_varas_instaladas'].astype(int)"
   ]
  },
  {
   "cell_type": "markdown",
   "id": "03049df1",
   "metadata": {},
   "source": [
    "Dá pra juntar Comarcas?\n"
   ]
  },
  {
   "cell_type": "code",
   "execution_count": null,
   "id": "a3a9f414",
   "metadata": {},
   "outputs": [],
   "source": [
    "len(set(df_unidades_infos['comarca']))"
   ]
  },
  {
   "cell_type": "markdown",
   "id": "addbba0e",
   "metadata": {},
   "source": [
    "<br>\n",
    "\n",
    "### Comarcas"
   ]
  },
  {
   "cell_type": "code",
   "execution_count": null,
   "id": "9d9a5f96",
   "metadata": {},
   "outputs": [],
   "source": [
    "# Read Data\n",
    "df_tjsp_com = pd.read_csv(output_path_tab / 'Comarcas.csv')\n",
    "\n",
    "# Drop Entrância\n",
    "df_tjsp_com = df_tjsp_com.drop(labels='entrancia', axis='columns')\n",
    "\n",
    "# Ajustes\n",
    "df_tjsp_com = adjust_columns(df=df_tjsp_com, column_ajust='comarca_tjsp')\n",
    "\n",
    "# Results\n",
    "df_tjsp_com.info()\n",
    "df_tjsp_com.head()"
   ]
  },
  {
   "cell_type": "code",
   "execution_count": null,
   "id": "313e7ef2",
   "metadata": {},
   "outputs": [],
   "source": [
    "# Ajusta\n",
    "df_unidades_infos = adjust_columns(df=df_unidades_infos, column_ajust='comarca')"
   ]
  },
  {
   "cell_type": "code",
   "execution_count": null,
   "id": "376f1bbc",
   "metadata": {},
   "outputs": [],
   "source": [
    "df_merge = pd.merge(\n",
    "    left=df_unidades_infos,\n",
    "    right=df_tjsp_com,\n",
    "    left_on='comarca_temp',\n",
    "    right_on='comarca_tjsp_temp',\n",
    "    how='left',\n",
    ")\n",
    "\n",
    "# Deleta\n",
    "df_merge = df_merge.drop(\n",
    "    labels=['comarca', 'comarca_temp', 'comarca_tjsp', 'comarca_tjsp_temp'],\n",
    "    axis='columns',\n",
    "    errors='ignore',\n",
    ")\n",
    "\n",
    "# Renomeia\n",
    "df_merge.info()\n",
    "df_merge.head()"
   ]
  },
  {
   "cell_type": "markdown",
   "id": "a54edefa",
   "metadata": {},
   "source": [
    "Salvar\n"
   ]
  },
  {
   "cell_type": "code",
   "execution_count": null,
   "id": "062864da",
   "metadata": {},
   "outputs": [],
   "source": [
    "filename = 'Unidades'\n",
    "\n",
    "# Salva\n",
    "df_merge.to_csv(output_path_tab / f'{filename}.csv', index=False)\n",
    "df_merge.to_excel(\n",
    "    output_path_tab / f'{filename}.xlsx', sheet_name=f'{filename}', index=False\n",
    ")"
   ]
  },
  {
   "cell_type": "markdown",
   "id": "f3bb9ce7",
   "metadata": {},
   "source": [
    "<br>\n",
    "\n",
    "---\n",
    "\n",
    "## Entrâncias\n"
   ]
  },
  {
   "cell_type": "code",
   "execution_count": null,
   "id": "51ac74ab",
   "metadata": {},
   "outputs": [],
   "source": [
    "df_unidades = pd.read_csv(output_path_tab / 'Unidades.csv')\n",
    "df_unidades.head(2)"
   ]
  },
  {
   "cell_type": "code",
   "execution_count": null,
   "id": "eab76a22",
   "metadata": {},
   "outputs": [],
   "source": [
    "df_entrancias = df_unidades[['id_comarca', 'entrancia']]\n",
    "\n",
    "# Deleta Duplicatos\n",
    "df_entrancias = df_entrancias.drop_duplicates()\n",
    "\n",
    "# Remove Null\n",
    "df_entrancias = df_entrancias[~df_entrancias['id_comarca'].isnull()]\n",
    "\n",
    "# Convert para Int\n",
    "df_entrancias['id_comarca'] = df_entrancias['id_comarca'].astype(int)\n",
    "\n",
    "# Resultados\n",
    "df_entrancias.info()\n",
    "df_entrancias.head()"
   ]
  },
  {
   "cell_type": "markdown",
   "id": "ad4fd02e",
   "metadata": {},
   "source": [
    "Adiciona dados de entrância as comarcas"
   ]
  },
  {
   "cell_type": "code",
   "execution_count": null,
   "id": "7030e43b",
   "metadata": {},
   "outputs": [],
   "source": [
    "df_entrancias[df_entrancias['id_comarca'] == 3501608]"
   ]
  },
  {
   "cell_type": "code",
   "execution_count": null,
   "id": "040e1ae7",
   "metadata": {},
   "outputs": [],
   "source": [
    "# Read Data\n",
    "df_tjsp_com = pd.read_csv(output_path_tab / 'Comarcas.csv')\n",
    "\n",
    "# Drop Entrância\n",
    "df_tjsp_com = df_tjsp_com.drop(labels='entrancia', axis='columns')\n",
    "\n",
    "# Results\n",
    "df_tjsp_com.info()\n",
    "df_tjsp_com.head()\n",
    "\n",
    "df_tjsp_com[df_tjsp_com['id_comarca'] == 3501608]"
   ]
  },
  {
   "cell_type": "code",
   "execution_count": null,
   "id": "7cadfae2",
   "metadata": {},
   "outputs": [],
   "source": [
    "df_merge = pd.merge(\n",
    "    left=df_tjsp_com,\n",
    "    right=df_entrancias,\n",
    "    left_on='id_comarca',\n",
    "    right_on='id_comarca',\n",
    "    how='inner',\n",
    ")\n",
    "\n",
    "df_merge"
   ]
  },
  {
   "cell_type": "markdown",
   "id": "3039fadb",
   "metadata": {},
   "source": [
    "Foi"
   ]
  },
  {
   "cell_type": "code",
   "execution_count": null,
   "id": "556c5d7a",
   "metadata": {},
   "outputs": [],
   "source": [
    "filename = 'Comarcas'\n",
    "\n",
    "# Salva\n",
    "df_merge.to_csv(output_path_tab / f'{filename}.csv', index=False)\n",
    "df_merge.to_excel(\n",
    "    output_path_tab / f'{filename}.xlsx', sheet_name=f'{filename}', index=False\n",
    ")"
   ]
  },
  {
   "cell_type": "code",
   "execution_count": null,
   "id": "1aa217f0",
   "metadata": {},
   "outputs": [],
   "source": []
  }
 ],
 "metadata": {
  "kernelspec": {
   "display_name": "Python 3.10.6 ('pablocarreira-lastest')",
   "language": "python",
   "name": "python3"
  },
  "language_info": {
   "codemirror_mode": {
    "name": "ipython",
    "version": 3
   },
   "file_extension": ".py",
   "mimetype": "text/x-python",
   "name": "python",
   "nbconvert_exporter": "python",
   "pygments_lexer": "ipython3",
   "version": "3.10.13"
  },
  "vscode": {
   "interpreter": {
    "hash": "4fe01b1e548a48625e93ad3ec9d7217eaa82c8c5a1273b2b8580787b5d806f08"
   }
  }
 },
 "nbformat": 4,
 "nbformat_minor": 5
}
