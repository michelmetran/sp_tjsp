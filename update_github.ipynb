{
 "cells": [
  {
   "cell_type": "markdown",
   "id": "integral-manner",
   "metadata": {},
   "source": [
    "# Introdução"
   ]
  },
  {
   "cell_type": "code",
   "execution_count": 1,
   "id": "fifty-catering",
   "metadata": {},
   "outputs": [],
   "source": [
    "import os"
   ]
  },
  {
   "cell_type": "markdown",
   "id": "convenient-walter",
   "metadata": {},
   "source": [
    "___\n",
    "\n",
    "# Encerramento"
   ]
  },
  {
   "cell_type": "markdown",
   "id": "golden-clearance",
   "metadata": {},
   "source": [
    "## *Requirements*"
   ]
  },
  {
   "cell_type": "code",
   "execution_count": 2,
   "id": "encouraging-worship",
   "metadata": {},
   "outputs": [
    {
     "output_type": "stream",
     "name": "stdout",
     "text": [
      "[NbConvertApp] WARNING | Config option `kernel_spec_manager_class` not recognized by `NbConvertApp`.\n",
      "[NbConvertApp] Converting notebook update_github.ipynb to python\n",
      "[NbConvertApp] Writing 743 bytes to update_github.py\n",
      "--------------------------------------------------------------------------------\n",
      "--------------------------------------------------------------------------------\n",
      "Arquivo update_github.py deletado com sucesso!\n"
     ]
    }
   ],
   "source": [
    "# Input\n",
    "inp = 'update_github.ipynb'\n",
    "\n",
    "# Output\n",
    "out = os.path.join(inp.split('.')[0])\n",
    "!jupyter-nbconvert $inp --to python --output $out\n",
    "\n",
    "print('-'*80)\n",
    "#!pipreqs '.' --force --debug\n",
    "\n",
    "print('-'*80)\n",
    "os.remove('{}.py'.format(out))\n",
    "print('Arquivo {}.py deletado com sucesso!'.format(out))"
   ]
  },
  {
   "cell_type": "markdown",
   "id": "decimal-contract",
   "metadata": {},
   "source": [
    "## *GitHub* this project"
   ]
  },
  {
   "cell_type": "code",
   "execution_count": 3,
   "id": "consolidated-filter",
   "metadata": {},
   "outputs": [
    {
     "output_type": "stream",
     "name": "stdout",
     "text": [
      "On branch main\n",
      "Your branch is up to date with 'origin/main'.\n",
      "\n",
      "Changes not staged for commit:\n",
      "  (use \"git add/rm <file>...\" to update what will be committed)\n",
      "  (use \"git restore <file>...\" to discard changes in working directory)\n",
      "\t\u001b[31mdeleted:    imgs/tjsp.jpg\u001b[m\n",
      "\t\u001b[31mmodified:   update_github.ipynb\u001b[m\n",
      "\n",
      "Untracked files:\n",
      "  (use \"git add <file>...\" to include in what will be committed)\n",
      "\t\u001b[31mimgs/Logotipo_TJSP_Transparente_Alta_Resolucao.png\u001b[m\n",
      "\t\u001b[31mimgs/logo_tjsp.png\u001b[m\n",
      "\t\u001b[31mimgs/logo_tjsp.svg\u001b[m\n",
      "\t\u001b[31mtjsp_get_infos.ipynb\u001b[m\n",
      "\n",
      "no changes added to commit (use \"git add\" and/or \"git commit -a\")\n",
      "[main 35522c0] Arrumações Gerais\n",
      " 5 files changed, 12068 insertions(+)\n",
      " create mode 100644 imgs/Logotipo_TJSP_Transparente_Alta_Resolucao.png\n",
      " create mode 100644 imgs/logo_tjsp.png\n",
      " create mode 100644 imgs/logo_tjsp.svg\n",
      " delete mode 100644 imgs/tjsp.jpg\n",
      " create mode 100644 tjsp_get_infos.ipynb\n",
      "Enumerating objects: 9, done.\n",
      "Counting objects: 100% (9/9), done.\n",
      "Delta compression using up to 4 threads\n",
      "Compressing objects: 100% (7/7), done.\n",
      "Writing objects: 100% (7/7), 1.41 MiB | 1.43 MiB/s, done.\n",
      "Total 7 (delta 1), reused 0 (delta 0)\n",
      "remote: Resolving deltas: 100% (1/1), completed with 1 local object.\u001b[K\n",
      "To github.com:michelmetran/sp_tjsp.git\n",
      "   d86027a..35522c0  main -> main\n"
     ]
    }
   ],
   "source": [
    "!nbstripout --install --attributes .gitattributes\n",
    "!git status\n",
    "!git add .\n",
    "!git commit -m 'Arrumações Gerais'\n",
    "!git push origin main"
   ]
  },
  {
   "cell_type": "code",
   "execution_count": null,
   "id": "raised-biodiversity",
   "metadata": {},
   "outputs": [],
   "source": []
  }
 ],
 "metadata": {
  "kernelspec": {
   "name": "python388jvsc74a57bd09bde4318d33bee5af1789029e7f35995ee61b19449b62cc2f74d04037c860790",
   "display_name": "Python 3.8.8 64-bit ('pablocarreira-py38': conda)"
  },
  "language_info": {
   "codemirror_mode": {
    "name": "ipython",
    "version": 3
   },
   "file_extension": ".py",
   "mimetype": "text/x-python",
   "name": "python",
   "nbconvert_exporter": "python",
   "pygments_lexer": "ipython3",
   "version": "3.8.8-final"
  }
 },
 "nbformat": 4,
 "nbformat_minor": 5
}