{
 "cells": [
  {
   "cell_type": "markdown",
   "id": "integral-manner",
   "metadata": {},
   "source": [
    "# Introdução"
   ]
  },
  {
   "cell_type": "code",
   "execution_count": null,
   "id": "fifty-catering",
   "metadata": {},
   "outputs": [],
   "source": [
    "import os"
   ]
  },
  {
   "cell_type": "markdown",
   "id": "convenient-walter",
   "metadata": {},
   "source": [
    "___\n",
    "\n",
    "# Encerramento"
   ]
  },
  {
   "cell_type": "markdown",
   "id": "golden-clearance",
   "metadata": {},
   "source": [
    "## *Requirements*"
   ]
  },
  {
   "cell_type": "code",
   "execution_count": null,
   "id": "encouraging-worship",
   "metadata": {},
   "outputs": [],
   "source": [
    "# Input\n",
    "inp = 'update_github.ipynb'\n",
    "\n",
    "# Output\n",
    "out = os.path.join(inp.split('.')[0])\n",
    "!jupyter-nbconvert $inp --to python --output $out\n",
    "\n",
    "print('-'*80)\n",
    "#!pipreqs '.' --force --debug\n",
    "\n",
    "print('-'*80)\n",
    "os.remove('{}.py'.format(out))\n",
    "print('Arquivo {}.py deletado com sucesso!'.format(out))"
   ]
  },
  {
   "cell_type": "markdown",
   "id": "decimal-contract",
   "metadata": {},
   "source": [
    "## *GitHub* this project"
   ]
  },
  {
   "cell_type": "code",
   "execution_count": null,
   "id": "consolidated-filter",
   "metadata": {},
   "outputs": [],
   "source": [
    "!nbstripout --install --attributes .gitattributes\n",
    "!git status\n",
    "!git add .\n",
    "!git commit -m 'Arrumações Gerais'\n",
    "!git push origin main"
   ]
  },
  {
   "cell_type": "code",
   "execution_count": null,
   "id": "raised-biodiversity",
   "metadata": {},
   "outputs": [],
   "source": []
  }
 ],
 "metadata": {
  "kernelspec": {
   "display_name": "Python 3.8.8 64-bit ('pablocarreira-py38': conda)",
   "name": "python388jvsc74a57bd09bde4318d33bee5af1789029e7f35995ee61b19449b62cc2f74d04037c860790"
  },
  "language_info": {
   "codemirror_mode": {
    "name": "ipython",
    "version": 3
   },
   "file_extension": ".py",
   "mimetype": "text/x-python",
   "name": "python",
   "nbconvert_exporter": "python",
   "pygments_lexer": "ipython3",
   "version": "3.8.8-final"
  }
 },
 "nbformat": 4,
 "nbformat_minor": 5
}
